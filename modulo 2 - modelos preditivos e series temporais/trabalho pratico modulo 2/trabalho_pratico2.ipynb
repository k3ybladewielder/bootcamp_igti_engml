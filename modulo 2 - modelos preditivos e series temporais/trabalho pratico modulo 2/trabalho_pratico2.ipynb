{
  "nbformat": 4,
  "nbformat_minor": 0,
  "metadata": {
    "colab": {
      "name": "trabalho_pratico2.ipynb",
      "provenance": []
    },
    "kernelspec": {
      "name": "python3",
      "display_name": "Python 3"
    },
    "language_info": {
      "name": "python"
    }
  },
  "cells": [
    {
      "cell_type": "markdown",
      "metadata": {
        "id": "NvEGvKWdBBat"
      },
      "source": [
        "# Trabalho Prático Módulo 2\n",
        "\n",
        "Bootcamp Engenheiro de Machine Learning @ IGTI\n",
        "\n",
        "Objetivo:\n",
        "\n",
        "Realizar a análise de uma base de dados real em Python."
      ]
    },
    {
      "cell_type": "code",
      "metadata": {
        "id": "Ybu75Y9hA98v"
      },
      "source": [
        "import pandas as pd\n",
        "import numpy as np"
      ],
      "execution_count": 1,
      "outputs": []
    },
    {
      "cell_type": "code",
      "metadata": {
        "id": "jaUyvWCKBWRT"
      },
      "source": [
        "bikes = pd.read_csv('https://pycourse.s3.amazonaws.com/bike-sharing.csv')"
      ],
      "execution_count": 2,
      "outputs": []
    },
    {
      "cell_type": "code",
      "metadata": {
        "colab": {
          "base_uri": "https://localhost:8080/",
          "height": 309
        },
        "id": "XzOFPNyiBa6W",
        "outputId": "448768ed-60c6-47c5-c7f6-12b50eb228ef"
      },
      "source": [
        "bikes.head()"
      ],
      "execution_count": 3,
      "outputs": [
        {
          "output_type": "execute_result",
          "data": {
            "text/html": [
              "<div>\n",
              "<style scoped>\n",
              "    .dataframe tbody tr th:only-of-type {\n",
              "        vertical-align: middle;\n",
              "    }\n",
              "\n",
              "    .dataframe tbody tr th {\n",
              "        vertical-align: top;\n",
              "    }\n",
              "\n",
              "    .dataframe thead th {\n",
              "        text-align: right;\n",
              "    }\n",
              "</style>\n",
              "<table border=\"1\" class=\"dataframe\">\n",
              "  <thead>\n",
              "    <tr style=\"text-align: right;\">\n",
              "      <th></th>\n",
              "      <th>datetime</th>\n",
              "      <th>rec_id</th>\n",
              "      <th>season</th>\n",
              "      <th>year</th>\n",
              "      <th>month</th>\n",
              "      <th>hour</th>\n",
              "      <th>is_holiday</th>\n",
              "      <th>weekday</th>\n",
              "      <th>is_workingday</th>\n",
              "      <th>weather_condition</th>\n",
              "      <th>temp</th>\n",
              "      <th>atemp</th>\n",
              "      <th>humidity</th>\n",
              "      <th>windspeed</th>\n",
              "      <th>casual</th>\n",
              "      <th>registered</th>\n",
              "      <th>total_count</th>\n",
              "    </tr>\n",
              "  </thead>\n",
              "  <tbody>\n",
              "    <tr>\n",
              "      <th>0</th>\n",
              "      <td>2011-01-01</td>\n",
              "      <td>1</td>\n",
              "      <td>1</td>\n",
              "      <td>0</td>\n",
              "      <td>1</td>\n",
              "      <td>0</td>\n",
              "      <td>0</td>\n",
              "      <td>6</td>\n",
              "      <td>0</td>\n",
              "      <td>1</td>\n",
              "      <td>0.24</td>\n",
              "      <td>0.2879</td>\n",
              "      <td>0.81</td>\n",
              "      <td>0.0</td>\n",
              "      <td>3</td>\n",
              "      <td>13</td>\n",
              "      <td>16</td>\n",
              "    </tr>\n",
              "    <tr>\n",
              "      <th>1</th>\n",
              "      <td>2011-01-01</td>\n",
              "      <td>2</td>\n",
              "      <td>1</td>\n",
              "      <td>0</td>\n",
              "      <td>1</td>\n",
              "      <td>1</td>\n",
              "      <td>0</td>\n",
              "      <td>6</td>\n",
              "      <td>0</td>\n",
              "      <td>1</td>\n",
              "      <td>0.22</td>\n",
              "      <td>0.2727</td>\n",
              "      <td>0.80</td>\n",
              "      <td>0.0</td>\n",
              "      <td>8</td>\n",
              "      <td>32</td>\n",
              "      <td>40</td>\n",
              "    </tr>\n",
              "    <tr>\n",
              "      <th>2</th>\n",
              "      <td>2011-01-01</td>\n",
              "      <td>3</td>\n",
              "      <td>1</td>\n",
              "      <td>0</td>\n",
              "      <td>1</td>\n",
              "      <td>2</td>\n",
              "      <td>0</td>\n",
              "      <td>6</td>\n",
              "      <td>0</td>\n",
              "      <td>1</td>\n",
              "      <td>0.22</td>\n",
              "      <td>0.2727</td>\n",
              "      <td>0.80</td>\n",
              "      <td>0.0</td>\n",
              "      <td>5</td>\n",
              "      <td>27</td>\n",
              "      <td>32</td>\n",
              "    </tr>\n",
              "    <tr>\n",
              "      <th>3</th>\n",
              "      <td>2011-01-01</td>\n",
              "      <td>4</td>\n",
              "      <td>1</td>\n",
              "      <td>0</td>\n",
              "      <td>1</td>\n",
              "      <td>3</td>\n",
              "      <td>0</td>\n",
              "      <td>6</td>\n",
              "      <td>0</td>\n",
              "      <td>1</td>\n",
              "      <td>0.24</td>\n",
              "      <td>0.2879</td>\n",
              "      <td>0.75</td>\n",
              "      <td>0.0</td>\n",
              "      <td>3</td>\n",
              "      <td>10</td>\n",
              "      <td>13</td>\n",
              "    </tr>\n",
              "    <tr>\n",
              "      <th>4</th>\n",
              "      <td>2011-01-01</td>\n",
              "      <td>5</td>\n",
              "      <td>1</td>\n",
              "      <td>0</td>\n",
              "      <td>1</td>\n",
              "      <td>4</td>\n",
              "      <td>0</td>\n",
              "      <td>6</td>\n",
              "      <td>0</td>\n",
              "      <td>1</td>\n",
              "      <td>0.24</td>\n",
              "      <td>0.2879</td>\n",
              "      <td>0.75</td>\n",
              "      <td>0.0</td>\n",
              "      <td>0</td>\n",
              "      <td>1</td>\n",
              "      <td>1</td>\n",
              "    </tr>\n",
              "  </tbody>\n",
              "</table>\n",
              "</div>"
            ],
            "text/plain": [
              "     datetime  rec_id  season  year  ...  windspeed  casual  registered  total_count\n",
              "0  2011-01-01       1       1     0  ...        0.0       3          13           16\n",
              "1  2011-01-01       2       1     0  ...        0.0       8          32           40\n",
              "2  2011-01-01       3       1     0  ...        0.0       5          27           32\n",
              "3  2011-01-01       4       1     0  ...        0.0       3          10           13\n",
              "4  2011-01-01       5       1     0  ...        0.0       0           1            1\n",
              "\n",
              "[5 rows x 17 columns]"
            ]
          },
          "metadata": {
            "tags": []
          },
          "execution_count": 3
        }
      ]
    },
    {
      "cell_type": "code",
      "metadata": {
        "colab": {
          "base_uri": "https://localhost:8080/"
        },
        "id": "_Ldqt04bBmuV",
        "outputId": "b2ca01cf-a827-4c44-dff1-7798b51df073"
      },
      "source": [
        "bikes.info()"
      ],
      "execution_count": 4,
      "outputs": [
        {
          "output_type": "stream",
          "text": [
            "<class 'pandas.core.frame.DataFrame'>\n",
            "RangeIndex: 17379 entries, 0 to 17378\n",
            "Data columns (total 17 columns):\n",
            " #   Column             Non-Null Count  Dtype  \n",
            "---  ------             --------------  -----  \n",
            " 0   datetime           17379 non-null  object \n",
            " 1   rec_id             17379 non-null  int64  \n",
            " 2   season             17379 non-null  int64  \n",
            " 3   year               17379 non-null  int64  \n",
            " 4   month              17379 non-null  int64  \n",
            " 5   hour               17379 non-null  int64  \n",
            " 6   is_holiday         17379 non-null  int64  \n",
            " 7   weekday            17379 non-null  int64  \n",
            " 8   is_workingday      17379 non-null  int64  \n",
            " 9   weather_condition  17379 non-null  int64  \n",
            " 10  temp               17379 non-null  float64\n",
            " 11  atemp              17379 non-null  float64\n",
            " 12  humidity           17379 non-null  float64\n",
            " 13  windspeed          17379 non-null  float64\n",
            " 14  casual             17379 non-null  int64  \n",
            " 15  registered         17379 non-null  int64  \n",
            " 16  total_count        17379 non-null  int64  \n",
            "dtypes: float64(4), int64(12), object(1)\n",
            "memory usage: 2.3+ MB\n"
          ],
          "name": "stdout"
        }
      ]
    },
    {
      "cell_type": "code",
      "metadata": {
        "colab": {
          "base_uri": "https://localhost:8080/"
        },
        "id": "_XuuzwpEBonO",
        "outputId": "cb27ccb7-ad06-4fab-97e8-917e0f56ec75"
      },
      "source": [
        "bikes.isnull().sum()"
      ],
      "execution_count": 5,
      "outputs": [
        {
          "output_type": "execute_result",
          "data": {
            "text/plain": [
              "datetime             0\n",
              "rec_id               0\n",
              "season               0\n",
              "year                 0\n",
              "month                0\n",
              "hour                 0\n",
              "is_holiday           0\n",
              "weekday              0\n",
              "is_workingday        0\n",
              "weather_condition    0\n",
              "temp                 0\n",
              "atemp                0\n",
              "humidity             0\n",
              "windspeed            0\n",
              "casual               0\n",
              "registered           0\n",
              "total_count          0\n",
              "dtype: int64"
            ]
          },
          "metadata": {
            "tags": []
          },
          "execution_count": 5
        }
      ]
    },
    {
      "cell_type": "markdown",
      "metadata": {
        "id": "QiGuTO5EBj-w"
      },
      "source": [
        "# Perguntas"
      ]
    },
    {
      "cell_type": "code",
      "metadata": {
        "colab": {
          "base_uri": "https://localhost:8080/"
        },
        "id": "YriQvfEcBljD",
        "outputId": "066107cd-67af-450e-b9cc-08a90ba6b04a"
      },
      "source": [
        "# Qual o tamanho desse dataset (número de linhas, número de colunas)? \n",
        "bikes.shape"
      ],
      "execution_count": 6,
      "outputs": [
        {
          "output_type": "execute_result",
          "data": {
            "text/plain": [
              "(17379, 17)"
            ]
          },
          "metadata": {
            "tags": []
          },
          "execution_count": 6
        }
      ]
    },
    {
      "cell_type": "code",
      "metadata": {
        "colab": {
          "base_uri": "https://localhost:8080/"
        },
        "id": "EGPQ6vP2B5WR",
        "outputId": "5cb797d3-6f43-4f86-a423-2a3aad7698be"
      },
      "source": [
        "# Qual a média da coluna windspeed? \n",
        "bikes['windspeed'].mean()"
      ],
      "execution_count": 7,
      "outputs": [
        {
          "output_type": "execute_result",
          "data": {
            "text/plain": [
              "0.1900976063064631"
            ]
          },
          "metadata": {
            "tags": []
          },
          "execution_count": 7
        }
      ]
    },
    {
      "cell_type": "code",
      "metadata": {
        "colab": {
          "base_uri": "https://localhost:8080/"
        },
        "id": "xBUKSieeCABD",
        "outputId": "f4bf71a2-deb1-48b8-c843-21e8bc93dcb2"
      },
      "source": [
        "# Qual a média da coluna temp? \n",
        "bikes['temp'].mean()"
      ],
      "execution_count": 8,
      "outputs": [
        {
          "output_type": "execute_result",
          "data": {
            "text/plain": [
              "0.4969871684216586"
            ]
          },
          "metadata": {
            "tags": []
          },
          "execution_count": 8
        }
      ]
    },
    {
      "cell_type": "code",
      "metadata": {
        "colab": {
          "base_uri": "https://localhost:8080/"
        },
        "id": "VDQ0dsgOCT3n",
        "outputId": "4d981477-8c75-478d-cb64-7e870a35b944"
      },
      "source": [
        "#Quantos registros de locações existem para o ano de 2011 (número de linhas, número de colunas)? \n",
        "bikes['yyear'] = bikes['datetime'].apply(lambda data: data.split('-')[0])\n",
        "bikes['yyear']"
      ],
      "execution_count": 34,
      "outputs": [
        {
          "output_type": "execute_result",
          "data": {
            "text/plain": [
              "(17379,)"
            ]
          },
          "metadata": {
            "tags": []
          },
          "execution_count": 34
        }
      ]
    },
    {
      "cell_type": "code",
      "metadata": {
        "colab": {
          "base_uri": "https://localhost:8080/"
        },
        "id": "mIUM0-3DDC7U",
        "outputId": "0ab9b75f-9ef9-4bc9-a2d2-0a4bd2eb6e3b"
      },
      "source": [
        "bikes[bikes['yyear'] == '2011'].shape"
      ],
      "execution_count": 49,
      "outputs": [
        {
          "output_type": "execute_result",
          "data": {
            "text/plain": [
              "(8645, 18)"
            ]
          },
          "metadata": {
            "tags": []
          },
          "execution_count": 49
        }
      ]
    },
    {
      "cell_type": "code",
      "metadata": {
        "colab": {
          "base_uri": "https://localhost:8080/"
        },
        "id": "_WUXtShrGEty",
        "outputId": "54faa2d4-cc25-478d-89d2-04fcf7bd137e"
      },
      "source": [
        "# Quantos registros de locações existem para o ano de 2012 (número de linhas, número de colunas)?\n",
        "bikes[bikes['yyear'] == '2012'].shape"
      ],
      "execution_count": 50,
      "outputs": [
        {
          "output_type": "execute_result",
          "data": {
            "text/plain": [
              "(8734, 18)"
            ]
          },
          "metadata": {
            "tags": []
          },
          "execution_count": 50
        }
      ]
    },
    {
      "cell_type": "code",
      "metadata": {
        "colab": {
          "base_uri": "https://localhost:8080/"
        },
        "id": "jKhQzDGEGNya",
        "outputId": "e3e0dd59-8b97-4f03-9e61-9993ff944b0a"
      },
      "source": [
        "# Quantas locações de bicicletas foram efetuadas em 2011? \n",
        "bikes[bikes['yyear'] == '2011'].sum()['total_count']"
      ],
      "execution_count": 57,
      "outputs": [
        {
          "output_type": "execute_result",
          "data": {
            "text/plain": [
              "1243103"
            ]
          },
          "metadata": {
            "tags": []
          },
          "execution_count": 57
        }
      ]
    },
    {
      "cell_type": "code",
      "metadata": {
        "colab": {
          "base_uri": "https://localhost:8080/"
        },
        "id": "ongF1T6KG7cq",
        "outputId": "889de500-1b35-4abf-8935-62b58752037a"
      },
      "source": [
        "# Quantas locações de bicicletas foram efetuadas em 2012? \n",
        "bikes[bikes['yyear'] == '2012'].sum()['total_count']"
      ],
      "execution_count": 58,
      "outputs": [
        {
          "output_type": "execute_result",
          "data": {
            "text/plain": [
              "2049576"
            ]
          },
          "metadata": {
            "tags": []
          },
          "execution_count": 58
        }
      ]
    },
    {
      "cell_type": "code",
      "metadata": {
        "colab": {
          "base_uri": "https://localhost:8080/"
        },
        "id": "VGST8B8THGep",
        "outputId": "ef8edc6f-d5d1-4c5c-e19a-217477273b48"
      },
      "source": [
        "# Qual estação do ano contém a maior média de locações de bicicletas? \n",
        "bikes.groupby('season').mean()['total_count'].sort_values(ascending=False)"
      ],
      "execution_count": 62,
      "outputs": [
        {
          "output_type": "execute_result",
          "data": {
            "text/plain": [
              "season\n",
              "3    236.016237\n",
              "2    208.344069\n",
              "4    198.868856\n",
              "1    111.114569\n",
              "Name: total_count, dtype: float64"
            ]
          },
          "metadata": {
            "tags": []
          },
          "execution_count": 62
        }
      ]
    },
    {
      "cell_type": "code",
      "metadata": {
        "colab": {
          "base_uri": "https://localhost:8080/"
        },
        "id": "E_mEP15wJV2l",
        "outputId": "e9f25f5a-3374-4969-ff27-4eee89f1882f"
      },
      "source": [
        "# Qual estação do ano contém a menor média de locações de bicicletas? \n",
        "bikes.groupby('season').mean()['total_count'].sort_values(ascending=True)"
      ],
      "execution_count": 64,
      "outputs": [
        {
          "output_type": "execute_result",
          "data": {
            "text/plain": [
              "season\n",
              "1    111.114569\n",
              "4    198.868856\n",
              "2    208.344069\n",
              "3    236.016237\n",
              "Name: total_count, dtype: float64"
            ]
          },
          "metadata": {
            "tags": []
          },
          "execution_count": 64
        }
      ]
    },
    {
      "cell_type": "code",
      "metadata": {
        "colab": {
          "base_uri": "https://localhost:8080/"
        },
        "id": "zrroRg7KJgTz",
        "outputId": "9844e8d5-58d3-40bd-80ab-f1389b0b1f0d"
      },
      "source": [
        "# Qual horário do dia contém a maior média de locações de bicicletas? \n",
        "bikes.groupby('hour').mean()['total_count'].sort_values(ascending=False)"
      ],
      "execution_count": 65,
      "outputs": [
        {
          "output_type": "execute_result",
          "data": {
            "text/plain": [
              "hour\n",
              "17    461.452055\n",
              "18    425.510989\n",
              "8     359.011004\n",
              "16    311.983562\n",
              "19    311.523352\n",
              "13    253.661180\n",
              "12    253.315934\n",
              "15    251.233196\n",
              "14    240.949246\n",
              "20    226.030220\n",
              "9     219.309491\n",
              "7     212.064649\n",
              "11    208.143054\n",
              "10    173.668501\n",
              "21    172.314560\n",
              "22    131.335165\n",
              "23     87.831044\n",
              "6      76.044138\n",
              "0      53.898072\n",
              "1      33.375691\n",
              "2      22.869930\n",
              "5      19.889819\n",
              "3      11.727403\n",
              "4       6.352941\n",
              "Name: total_count, dtype: float64"
            ]
          },
          "metadata": {
            "tags": []
          },
          "execution_count": 65
        }
      ]
    },
    {
      "cell_type": "code",
      "metadata": {
        "colab": {
          "base_uri": "https://localhost:8080/"
        },
        "id": "TJFXzJmxJuiw",
        "outputId": "9fe41470-b664-4755-ce17-0b8c06e1c274"
      },
      "source": [
        "# Qual horário do dia contém a menor média de locações de bicicletas? \n",
        "bikes.groupby('hour').mean()['total_count'].sort_values(ascending=True)"
      ],
      "execution_count": 66,
      "outputs": [
        {
          "output_type": "execute_result",
          "data": {
            "text/plain": [
              "hour\n",
              "4       6.352941\n",
              "3      11.727403\n",
              "5      19.889819\n",
              "2      22.869930\n",
              "1      33.375691\n",
              "0      53.898072\n",
              "6      76.044138\n",
              "23     87.831044\n",
              "22    131.335165\n",
              "21    172.314560\n",
              "10    173.668501\n",
              "11    208.143054\n",
              "7     212.064649\n",
              "9     219.309491\n",
              "20    226.030220\n",
              "14    240.949246\n",
              "15    251.233196\n",
              "12    253.315934\n",
              "13    253.661180\n",
              "19    311.523352\n",
              "16    311.983562\n",
              "8     359.011004\n",
              "18    425.510989\n",
              "17    461.452055\n",
              "Name: total_count, dtype: float64"
            ]
          },
          "metadata": {
            "tags": []
          },
          "execution_count": 66
        }
      ]
    },
    {
      "cell_type": "code",
      "metadata": {
        "colab": {
          "base_uri": "https://localhost:8080/"
        },
        "id": "VAPqoYLQJzjL",
        "outputId": "e9d43530-92e4-4076-ac75-cc6e5d21a82e"
      },
      "source": [
        "# Que dia da semana contém a maior média de locações de bicicletas? \n",
        "bikes.groupby('weekday').mean()['total_count'].sort_values(ascending=False)"
      ],
      "execution_count": 67,
      "outputs": [
        {
          "output_type": "execute_result",
          "data": {
            "text/plain": [
              "weekday\n",
              "4    196.436665\n",
              "5    196.135907\n",
              "2    191.238891\n",
              "3    191.130505\n",
              "6    190.209793\n",
              "1    183.744655\n",
              "0    177.468825\n",
              "Name: total_count, dtype: float64"
            ]
          },
          "metadata": {
            "tags": []
          },
          "execution_count": 67
        }
      ]
    },
    {
      "cell_type": "code",
      "metadata": {
        "colab": {
          "base_uri": "https://localhost:8080/"
        },
        "id": "ngrPSJ_TKhlh",
        "outputId": "6fb3a7d9-3698-4f42-95a5-d487a86d5ec3"
      },
      "source": [
        "# Que dia da semana contém a menor média de locações de bicicletas? \n",
        "bikes.groupby('weekday').mean()['total_count'].sort_values(ascending=True)"
      ],
      "execution_count": 69,
      "outputs": [
        {
          "output_type": "execute_result",
          "data": {
            "text/plain": [
              "weekday\n",
              "0    177.468825\n",
              "1    183.744655\n",
              "6    190.209793\n",
              "3    191.130505\n",
              "2    191.238891\n",
              "5    196.135907\n",
              "4    196.436665\n",
              "Name: total_count, dtype: float64"
            ]
          },
          "metadata": {
            "tags": []
          },
          "execution_count": 69
        }
      ]
    },
    {
      "cell_type": "code",
      "metadata": {
        "colab": {
          "base_uri": "https://localhost:8080/"
        },
        "id": "tWHSoe79K0_F",
        "outputId": "59363136-ccfa-4576-ffae-575f4f2bf88f"
      },
      "source": [
        "# Às quartas-feiras (weekday = 3), qual horário do dia contém a maior média de locações de bicicletas? \n",
        "bikes[bikes['weekday'] == 3].groupby('hour').mean()['total_count'].sort_values(ascending=False)"
      ],
      "execution_count": 71,
      "outputs": [
        {
          "output_type": "execute_result",
          "data": {
            "text/plain": [
              "hour\n",
              "17    513.144231\n",
              "18    494.029126\n",
              "8     488.326923\n",
              "19    357.504854\n",
              "7     303.980769\n",
              "16    272.961538\n",
              "20    256.660194\n",
              "9     238.528846\n",
              "21    194.669903\n",
              "12    193.903846\n",
              "13    185.826923\n",
              "15    181.288462\n",
              "14    170.548077\n",
              "11    152.201923\n",
              "22    143.689320\n",
              "10    131.894231\n",
              "6     107.807692\n",
              "23     83.737864\n",
              "0      34.557692\n",
              "5      25.750000\n",
              "1      15.336538\n",
              "2       7.813725\n",
              "4       4.968750\n",
              "3       4.888889\n",
              "Name: total_count, dtype: float64"
            ]
          },
          "metadata": {
            "tags": []
          },
          "execution_count": 71
        }
      ]
    },
    {
      "cell_type": "code",
      "metadata": {
        "colab": {
          "base_uri": "https://localhost:8080/"
        },
        "id": "6nMGvV57LEoP",
        "outputId": "8e2743ab-61fc-4bdb-b255-214604fb7195"
      },
      "source": [
        "# Aos sábados (weekday = 6), qual horário do dia contém a maior média de locações de bicicletas? \n",
        "bikes[bikes['weekday'] == 6].groupby('hour').mean()['total_count'].sort_values(ascending=False)"
      ],
      "execution_count": 72,
      "outputs": [
        {
          "output_type": "execute_result",
          "data": {
            "text/plain": [
              "hour\n",
              "13    385.371429\n",
              "15    382.428571\n",
              "14    381.333333\n",
              "12    375.380952\n",
              "16    366.142857\n",
              "17    334.409524\n",
              "11    328.609524\n",
              "18    292.048077\n",
              "10    263.723810\n",
              "19    239.932692\n",
              "9     186.790476\n",
              "20    180.865385\n",
              "21    156.000000\n",
              "22    139.663462\n",
              "23    115.855769\n",
              "8     114.476190\n",
              "0      94.304762\n",
              "1      67.780952\n",
              "2      50.495238\n",
              "7      45.961905\n",
              "3      22.885714\n",
              "6      21.000000\n",
              "5       8.291262\n",
              "4       7.657143\n",
              "Name: total_count, dtype: float64"
            ]
          },
          "metadata": {
            "tags": []
          },
          "execution_count": 72
        }
      ]
    }
  ]
}