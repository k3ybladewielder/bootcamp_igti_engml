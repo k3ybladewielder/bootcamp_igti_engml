{
  "nbformat": 4,
  "nbformat_minor": 0,
  "metadata": {
    "colab": {
      "name": "desafio_final2.ipynb",
      "provenance": [],
      "collapsed_sections": []
    },
    "kernelspec": {
      "name": "python3",
      "display_name": "Python 3"
    },
    "language_info": {
      "name": "python"
    }
  },
  "cells": [
    {
      "cell_type": "markdown",
      "metadata": {
        "id": "iKVDKhEWJsuB"
      },
      "source": [
        "# Desafio Final Módulo 2\n",
        "Bootcamp Engenheiro Machine Learning @ IGTI\n",
        "\n",
        "Objetivos:\n",
        "\n",
        "Exercitar os seguintes conceitos trabalhados no Módulo:\n",
        "\n",
        "Análise exploratória de dados (EDA - Exploratory Data Analysis).\n",
        "\n",
        "Comparação e treinamento de modelos de classificação."
      ]
    },
    {
      "cell_type": "code",
      "metadata": {
        "id": "xnAifUuAJp1s"
      },
      "source": [
        "import pandas as pd\n",
        "import numpy as np\n",
        "import matplotlib.pyplot as plt\n",
        "import seaborn as sns\n",
        "import plotly.express as px"
      ],
      "execution_count": null,
      "outputs": []
    },
    {
      "cell_type": "code",
      "metadata": {
        "id": "LydYokmSKpRu"
      },
      "source": [
        "bank = pd.read_csv('https://pycourse.s3.amazonaws.com/banknote_authentication.txt', header=None, names=['variance', 'skewness', 'curtosis', 'entropy', 'class'])"
      ],
      "execution_count": null,
      "outputs": []
    },
    {
      "cell_type": "code",
      "metadata": {
        "colab": {
          "base_uri": "https://localhost:8080/",
          "height": 204
        },
        "id": "1h8-BWkPK5WY",
        "outputId": "4c35c16a-1343-447f-ca0e-6f16741d3c70"
      },
      "source": [
        "bank.head()"
      ],
      "execution_count": null,
      "outputs": [
        {
          "output_type": "execute_result",
          "data": {
            "text/html": [
              "<div>\n",
              "<style scoped>\n",
              "    .dataframe tbody tr th:only-of-type {\n",
              "        vertical-align: middle;\n",
              "    }\n",
              "\n",
              "    .dataframe tbody tr th {\n",
              "        vertical-align: top;\n",
              "    }\n",
              "\n",
              "    .dataframe thead th {\n",
              "        text-align: right;\n",
              "    }\n",
              "</style>\n",
              "<table border=\"1\" class=\"dataframe\">\n",
              "  <thead>\n",
              "    <tr style=\"text-align: right;\">\n",
              "      <th></th>\n",
              "      <th>variance</th>\n",
              "      <th>skewness</th>\n",
              "      <th>curtosis</th>\n",
              "      <th>entropy</th>\n",
              "      <th>class</th>\n",
              "    </tr>\n",
              "  </thead>\n",
              "  <tbody>\n",
              "    <tr>\n",
              "      <th>0</th>\n",
              "      <td>3.62160</td>\n",
              "      <td>8.6661</td>\n",
              "      <td>-2.8073</td>\n",
              "      <td>-0.44699</td>\n",
              "      <td>0</td>\n",
              "    </tr>\n",
              "    <tr>\n",
              "      <th>1</th>\n",
              "      <td>4.54590</td>\n",
              "      <td>8.1674</td>\n",
              "      <td>-2.4586</td>\n",
              "      <td>-1.46210</td>\n",
              "      <td>0</td>\n",
              "    </tr>\n",
              "    <tr>\n",
              "      <th>2</th>\n",
              "      <td>3.86600</td>\n",
              "      <td>-2.6383</td>\n",
              "      <td>1.9242</td>\n",
              "      <td>0.10645</td>\n",
              "      <td>0</td>\n",
              "    </tr>\n",
              "    <tr>\n",
              "      <th>3</th>\n",
              "      <td>3.45660</td>\n",
              "      <td>9.5228</td>\n",
              "      <td>-4.0112</td>\n",
              "      <td>-3.59440</td>\n",
              "      <td>0</td>\n",
              "    </tr>\n",
              "    <tr>\n",
              "      <th>4</th>\n",
              "      <td>0.32924</td>\n",
              "      <td>-4.4552</td>\n",
              "      <td>4.5718</td>\n",
              "      <td>-0.98880</td>\n",
              "      <td>0</td>\n",
              "    </tr>\n",
              "  </tbody>\n",
              "</table>\n",
              "</div>"
            ],
            "text/plain": [
              "   variance  skewness  curtosis  entropy  class\n",
              "0   3.62160    8.6661   -2.8073 -0.44699      0\n",
              "1   4.54590    8.1674   -2.4586 -1.46210      0\n",
              "2   3.86600   -2.6383    1.9242  0.10645      0\n",
              "3   3.45660    9.5228   -4.0112 -3.59440      0\n",
              "4   0.32924   -4.4552    4.5718 -0.98880      0"
            ]
          },
          "metadata": {
            "tags": []
          },
          "execution_count": 3
        }
      ]
    },
    {
      "cell_type": "code",
      "metadata": {
        "colab": {
          "base_uri": "https://localhost:8080/"
        },
        "id": "V8_EUGATLmBr",
        "outputId": "5820d758-f5a8-4002-97e7-80bef8736fa3"
      },
      "source": [
        "bank.isnull().sum()"
      ],
      "execution_count": null,
      "outputs": [
        {
          "output_type": "execute_result",
          "data": {
            "text/plain": [
              "variance    0\n",
              "skewness    0\n",
              "curtosis    0\n",
              "entropy     0\n",
              "class       0\n",
              "dtype: int64"
            ]
          },
          "metadata": {
            "tags": []
          },
          "execution_count": 4
        }
      ]
    },
    {
      "cell_type": "code",
      "metadata": {
        "colab": {
          "base_uri": "https://localhost:8080/"
        },
        "id": "WZ3WlQYoLSmV",
        "outputId": "33fc1db8-822b-47e7-d480-015f7505a7d1"
      },
      "source": [
        "bank.info()"
      ],
      "execution_count": null,
      "outputs": [
        {
          "output_type": "stream",
          "text": [
            "<class 'pandas.core.frame.DataFrame'>\n",
            "RangeIndex: 1372 entries, 0 to 1371\n",
            "Data columns (total 5 columns):\n",
            " #   Column    Non-Null Count  Dtype  \n",
            "---  ------    --------------  -----  \n",
            " 0   variance  1372 non-null   float64\n",
            " 1   skewness  1372 non-null   float64\n",
            " 2   curtosis  1372 non-null   float64\n",
            " 3   entropy   1372 non-null   float64\n",
            " 4   class     1372 non-null   int64  \n",
            "dtypes: float64(4), int64(1)\n",
            "memory usage: 53.7 KB\n"
          ],
          "name": "stdout"
        }
      ]
    },
    {
      "cell_type": "markdown",
      "metadata": {
        "id": "YWKY5Q-WMBCk"
      },
      "source": [
        "## Perguntas"
      ]
    },
    {
      "cell_type": "code",
      "metadata": {
        "colab": {
          "base_uri": "https://localhost:8080/"
        },
        "id": "RSM_ypPRLhwX",
        "outputId": "3ebf46f9-8f9a-44eb-e2e1-72d62c4e95a2"
      },
      "source": [
        "# Qual o tamanho desse dataset (número de linhas, número de colunas)? \n",
        "bank.shape"
      ],
      "execution_count": null,
      "outputs": [
        {
          "output_type": "execute_result",
          "data": {
            "text/plain": [
              "(1372, 5)"
            ]
          },
          "metadata": {
            "tags": []
          },
          "execution_count": 6
        }
      ]
    },
    {
      "cell_type": "code",
      "metadata": {
        "colab": {
          "base_uri": "https://localhost:8080/"
        },
        "id": "h1y4Pr-AN0EI",
        "outputId": "c2df0cc9-1cbb-4e75-dad1-28462b2f0ded"
      },
      "source": [
        "#Qual variável possui o maior range (diferença entre valor máximo e mínimo)?\n",
        "vmax = bank['variance'].max()\n",
        "vmin = bank['variance'].min()\n",
        "skmax = bank['skewness'].max()\n",
        "skmin = bank['skewness'].min()\n",
        "cmax = bank['curtosis'].max()\n",
        "cmin = bank['curtosis'].min()\n",
        "emax = bank['entropy'].max()\n",
        "emin = bank['entropy'].min()\n",
        "\n",
        "rv = vmax - vmin\n",
        "rsk = skmax - skmin\n",
        "rc = cmax - cmin\n",
        "re = emax - emin\n",
        "\n",
        "\n",
        "print(f'\\n Range do variance: {rv} \\n Range do skewness: {rsk} \\n Range do curtosis: {rc} \\n Range do entropy: {re}')"
      ],
      "execution_count": null,
      "outputs": [
        {
          "output_type": "stream",
          "text": [
            "\n",
            " Range do variance: 13.8669 \n",
            " Range do skewness: 26.7247 \n",
            " Range do curtosis: 23.2135 \n",
            " Range do entropy: 10.9977\n"
          ],
          "name": "stdout"
        }
      ]
    },
    {
      "cell_type": "code",
      "metadata": {
        "id": "j32ohvDH280c"
      },
      "source": [
        "#for col in bank_df.columns:\n",
        "#  print(f\"{col}: \", bank_df[col].max()-bank_df[col].min())"
      ],
      "execution_count": null,
      "outputs": []
    },
    {
      "cell_type": "code",
      "metadata": {
        "colab": {
          "base_uri": "https://localhost:8080/"
        },
        "id": "9L_IElIhSEkX",
        "outputId": "5e313ee6-1f99-4425-dc8d-d034d02f6aef"
      },
      "source": [
        "# Qual a média da coluna skewness?\n",
        "bank['skewness'].mean()"
      ],
      "execution_count": null,
      "outputs": [
        {
          "output_type": "execute_result",
          "data": {
            "text/plain": [
              "1.9223531206393603"
            ]
          },
          "metadata": {
            "tags": []
          },
          "execution_count": 8
        }
      ]
    },
    {
      "cell_type": "code",
      "metadata": {
        "colab": {
          "base_uri": "https://localhost:8080/"
        },
        "id": "RLpyDRu3SgBp",
        "outputId": "43c5ada7-569e-403b-be62-8aa1065b12d3"
      },
      "source": [
        "# Qual a média da coluna entropy? \n",
        "bank['entropy'].mean()"
      ],
      "execution_count": null,
      "outputs": [
        {
          "output_type": "execute_result",
          "data": {
            "text/plain": [
              "-1.191656520043731"
            ]
          },
          "metadata": {
            "tags": []
          },
          "execution_count": 9
        }
      ]
    },
    {
      "cell_type": "code",
      "metadata": {
        "colab": {
          "base_uri": "https://localhost:8080/"
        },
        "id": "6fzVhfw4SqjP",
        "outputId": "5d9a71fd-4b4e-4fab-cb5d-da97cb4f607c"
      },
      "source": [
        "# Qual a mediana da coluna variance? \n",
        "bank['variance'].median()"
      ],
      "execution_count": null,
      "outputs": [
        {
          "output_type": "execute_result",
          "data": {
            "text/plain": [
              "0.49618"
            ]
          },
          "metadata": {
            "tags": []
          },
          "execution_count": 10
        }
      ]
    },
    {
      "cell_type": "code",
      "metadata": {
        "colab": {
          "base_uri": "https://localhost:8080/"
        },
        "id": "jIQO3xmWSqny",
        "outputId": "fc5d5eef-cc79-4fcd-8406-a0389e49a01b"
      },
      "source": [
        "# Qual o desvio padrão da coluna curtosis? \n",
        "bank['curtosis'].std()"
      ],
      "execution_count": null,
      "outputs": [
        {
          "output_type": "execute_result",
          "data": {
            "text/plain": [
              "4.310030090106595"
            ]
          },
          "metadata": {
            "tags": []
          },
          "execution_count": 11
        }
      ]
    },
    {
      "cell_type": "code",
      "metadata": {
        "colab": {
          "base_uri": "https://localhost:8080/"
        },
        "id": "bGYkNUbRSqtq",
        "outputId": "d32ff1ec-5283-43aa-8033-e8622f401432"
      },
      "source": [
        "# Qual a porcentagem de exemplos do dataset que são cédulas falsas (class=1)? \n",
        "len(bank[bank['class'] == 1]) / len(bank) * 100"
      ],
      "execution_count": null,
      "outputs": [
        {
          "output_type": "execute_result",
          "data": {
            "text/plain": [
              "44.460641399416915"
            ]
          },
          "metadata": {
            "tags": []
          },
          "execution_count": 12
        }
      ]
    },
    {
      "cell_type": "code",
      "metadata": {
        "colab": {
          "base_uri": "https://localhost:8080/",
          "height": 111
        },
        "id": "V-adao1VLiCW",
        "outputId": "6bd8fc4b-bbc1-44d1-f0ba-1eb39927e996"
      },
      "source": [
        "# Qual o valor da correlação de Pearson entre as variáveis skewness e curtosis? \n",
        "bank[['skewness', 'curtosis']].corr(method='pearson')"
      ],
      "execution_count": null,
      "outputs": [
        {
          "output_type": "execute_result",
          "data": {
            "text/html": [
              "<div>\n",
              "<style scoped>\n",
              "    .dataframe tbody tr th:only-of-type {\n",
              "        vertical-align: middle;\n",
              "    }\n",
              "\n",
              "    .dataframe tbody tr th {\n",
              "        vertical-align: top;\n",
              "    }\n",
              "\n",
              "    .dataframe thead th {\n",
              "        text-align: right;\n",
              "    }\n",
              "</style>\n",
              "<table border=\"1\" class=\"dataframe\">\n",
              "  <thead>\n",
              "    <tr style=\"text-align: right;\">\n",
              "      <th></th>\n",
              "      <th>skewness</th>\n",
              "      <th>curtosis</th>\n",
              "    </tr>\n",
              "  </thead>\n",
              "  <tbody>\n",
              "    <tr>\n",
              "      <th>skewness</th>\n",
              "      <td>1.000000</td>\n",
              "      <td>-0.786895</td>\n",
              "    </tr>\n",
              "    <tr>\n",
              "      <th>curtosis</th>\n",
              "      <td>-0.786895</td>\n",
              "      <td>1.000000</td>\n",
              "    </tr>\n",
              "  </tbody>\n",
              "</table>\n",
              "</div>"
            ],
            "text/plain": [
              "          skewness  curtosis\n",
              "skewness  1.000000 -0.786895\n",
              "curtosis -0.786895  1.000000"
            ]
          },
          "metadata": {
            "tags": []
          },
          "execution_count": 13
        }
      ]
    },
    {
      "cell_type": "markdown",
      "metadata": {
        "id": "ma_Fq1diZHdX"
      },
      "source": [
        "Modelos"
      ]
    },
    {
      "cell_type": "code",
      "metadata": {
        "id": "H_WV7h2BZQEQ"
      },
      "source": [
        "bank_x = bank.drop('class', axis=1)\n",
        "bank_y = bank['class']"
      ],
      "execution_count": null,
      "outputs": []
    },
    {
      "cell_type": "code",
      "metadata": {
        "id": "GRCgcMnaZnmg"
      },
      "source": [
        "from sklearn.model_selection import train_test_split\n",
        "x_train, x_test, y_train, y_test = train_test_split(bank_x, bank_y, test_size=0.3, random_state=1)"
      ],
      "execution_count": null,
      "outputs": []
    },
    {
      "cell_type": "code",
      "metadata": {
        "id": "uYxsTNwjXMww"
      },
      "source": [
        "from sklearn.neighbors import KNeighborsClassifier\n",
        "from sklearn.tree import DecisionTreeClassifier\n",
        "from sklearn.ensemble import RandomForestClassifier\n",
        "from sklearn.svm import SVC\n",
        "from sklearn.neural_network import MLPClassifier"
      ],
      "execution_count": null,
      "outputs": []
    },
    {
      "cell_type": "code",
      "metadata": {
        "id": "Al2dyEkJXQLM"
      },
      "source": [
        "clf_KNN = KNeighborsClassifier(n_neighbors=5)\n",
        "clf_arvore = DecisionTreeClassifier(random_state=1)\n",
        "clf_floresta = RandomForestClassifier(max_depth=8, random_state=1)\n",
        "clf_svm = SVC(gamma='auto',kernel='rbf', random_state=1)\n",
        "clf_mlp = MLPClassifier(hidden_layer_sizes=(2,), solver='lbfgs', random_state=1)"
      ],
      "execution_count": null,
      "outputs": []
    },
    {
      "cell_type": "code",
      "metadata": {
        "id": "UELFs0Yja1jY"
      },
      "source": [
        "from sklearn.metrics import accuracy_score"
      ],
      "execution_count": null,
      "outputs": []
    },
    {
      "cell_type": "code",
      "metadata": {
        "colab": {
          "base_uri": "https://localhost:8080/"
        },
        "id": "5hY6yisCZ2ho",
        "outputId": "c8c64b32-c6da-4afd-94f4-dd5f6b20082a"
      },
      "source": [
        "# Qual a acurácia do KNN no conjunto de teste? \n",
        "clf_KNN.fit(x_train, y_train)\n",
        "knn_pred = clf_KNN.predict(x_test)\n",
        "accuracy_score(y_test, knn_pred)"
      ],
      "execution_count": null,
      "outputs": [
        {
          "output_type": "execute_result",
          "data": {
            "text/plain": [
              "0.9975728155339806"
            ]
          },
          "metadata": {
            "tags": []
          },
          "execution_count": 20
        }
      ]
    },
    {
      "cell_type": "code",
      "metadata": {
        "colab": {
          "base_uri": "https://localhost:8080/"
        },
        "id": "aQx4OGbxLiI7",
        "outputId": "a2292a8d-252c-489d-c29d-48094a39c22d"
      },
      "source": [
        "# Qual a acurácia da Árvore de Decisão no conjunto de teste? \n",
        "clf_arvore.fit(x_train, y_train)\n",
        "arvore_pred = clf_arvore.predict(x_test)\n",
        "accuracy_score(y_test, arvore_pred)"
      ],
      "execution_count": null,
      "outputs": [
        {
          "output_type": "execute_result",
          "data": {
            "text/plain": [
              "0.9878640776699029"
            ]
          },
          "metadata": {
            "tags": []
          },
          "execution_count": 21
        }
      ]
    },
    {
      "cell_type": "code",
      "metadata": {
        "colab": {
          "base_uri": "https://localhost:8080/"
        },
        "id": "o5I0hpg9LS1K",
        "outputId": "2aa77a06-4322-4602-9602-03c4e0dc6c73"
      },
      "source": [
        "# Qual a acurácia do Random Forest no conjunto de teste? \n",
        "clf_floresta.fit(x_train, y_train)\n",
        "floresta_pred = clf_floresta.predict(x_test)\n",
        "accuracy_score(y_test, floresta_pred)"
      ],
      "execution_count": null,
      "outputs": [
        {
          "output_type": "execute_result",
          "data": {
            "text/plain": [
              "0.9951456310679612"
            ]
          },
          "metadata": {
            "tags": []
          },
          "execution_count": 22
        }
      ]
    },
    {
      "cell_type": "code",
      "metadata": {
        "colab": {
          "base_uri": "https://localhost:8080/"
        },
        "id": "6fTuZHyhydPx",
        "outputId": "e0fcab1c-1d8c-44bc-cc8b-79e56425220f"
      },
      "source": [
        "# Analisando o valor da importância relativa das features do Random Forest \n",
        "#(atributo feature_importances_), qual feature melhor contribuiu para a predição de class? \n",
        "\n",
        "bank.columns"
      ],
      "execution_count": null,
      "outputs": [
        {
          "output_type": "execute_result",
          "data": {
            "text/plain": [
              "Index(['variance', 'skewness', 'curtosis', 'entropy', 'class'], dtype='object')"
            ]
          },
          "metadata": {
            "tags": []
          },
          "execution_count": 26
        }
      ]
    },
    {
      "cell_type": "code",
      "metadata": {
        "colab": {
          "base_uri": "https://localhost:8080/"
        },
        "id": "kor_RhBz00s5",
        "outputId": "42389792-7462-4074-f591-a2fbf4bf4d45"
      },
      "source": [
        "clf_floresta.feature_importances_"
      ],
      "execution_count": null,
      "outputs": [
        {
          "output_type": "execute_result",
          "data": {
            "text/plain": [
              "array([0.56066718, 0.24058589, 0.14022782, 0.05851911])"
            ]
          },
          "metadata": {
            "tags": []
          },
          "execution_count": 27
        }
      ]
    },
    {
      "cell_type": "code",
      "metadata": {
        "colab": {
          "base_uri": "https://localhost:8080/"
        },
        "id": "x4-Tdh1K08tE",
        "outputId": "5e769fda-90c6-42f7-dec4-4e277e055045"
      },
      "source": [
        "# Qual o valor da importância relativa da feature skewness? \n",
        "clf_floresta.feature_importances_[1]"
      ],
      "execution_count": null,
      "outputs": [
        {
          "output_type": "execute_result",
          "data": {
            "text/plain": [
              "0.24058588894949182"
            ]
          },
          "metadata": {
            "tags": []
          },
          "execution_count": 29
        }
      ]
    },
    {
      "cell_type": "code",
      "metadata": {
        "colab": {
          "base_uri": "https://localhost:8080/"
        },
        "id": "AM3HxHZP1KJH",
        "outputId": "1b77788a-5720-4942-9539-5f7048a1ebfc"
      },
      "source": [
        "# Qual a acurácia do SVM no conjunto de teste? \n",
        "clf_svm.fit(x_train, y_train)\n",
        "svm_pred = clf_svm.predict(x_test)\n",
        "accuracy_score(y_test, svm_pred)"
      ],
      "execution_count": null,
      "outputs": [
        {
          "output_type": "execute_result",
          "data": {
            "text/plain": [
              "1.0"
            ]
          },
          "metadata": {
            "tags": []
          },
          "execution_count": 30
        }
      ]
    },
    {
      "cell_type": "code",
      "metadata": {
        "colab": {
          "base_uri": "https://localhost:8080/"
        },
        "id": "gIM6Nu_C1jUQ",
        "outputId": "0da02171-ac43-48d8-93c2-59bda38e761c"
      },
      "source": [
        "# Qual a acurácia da rede MLP no conjunto de teste? \n",
        "clf_mlp.fit(x_train, y_train)\n",
        "mlp_pred = clf_mlp.predict(x_test)\n",
        "accuracy_score(y_test, mlp_pred)"
      ],
      "execution_count": null,
      "outputs": [
        {
          "output_type": "execute_result",
          "data": {
            "text/plain": [
              "1.0"
            ]
          },
          "metadata": {
            "tags": []
          },
          "execution_count": 32
        }
      ]
    }
  ]
}