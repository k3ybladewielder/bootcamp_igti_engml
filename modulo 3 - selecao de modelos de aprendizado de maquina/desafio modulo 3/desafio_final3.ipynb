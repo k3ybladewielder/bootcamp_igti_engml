{
  "nbformat": 4,
  "nbformat_minor": 0,
  "metadata": {
    "colab": {
      "name": "desafio_final3.ipynb",
      "provenance": [],
      "collapsed_sections": []
    },
    "kernelspec": {
      "name": "python3",
      "display_name": "Python 3"
    },
    "language_info": {
      "name": "python"
    }
  },
  "cells": [
    {
      "cell_type": "markdown",
      "metadata": {
        "id": "RjG1POBhT0z5"
      },
      "source": [
        "# Desafio Final Módulo 3\n",
        "Bootcamp Engenheiro Machine Learning @ IGTI\n",
        "\n",
        "Objetivos:\n",
        "*  Exercitar os seguintes conceitos trabalhados no Módulo"
      ]
    },
    {
      "cell_type": "markdown",
      "metadata": {
        "id": "Il60Bsz0Uvkn"
      },
      "source": [
        "## Importação"
      ]
    },
    {
      "cell_type": "code",
      "metadata": {
        "id": "FBs3bOHRTjTq"
      },
      "source": [
        "import pandas as pd\n",
        "import numpy as np\n",
        "\n",
        "from sklearn.ensemble import RandomForestClassifier\n",
        "from sklearn.svm import SVC\n",
        "from sklearn.model_selection import StratifiedKFold\n",
        "from sklearn.model_selection import RandomizedSearchCV\n",
        "from scipy.stats import uniform\n",
        "from scipy.stats import randint\n",
        "from sklearn.metrics import f1_score, make_scorer"
      ],
      "execution_count": 1,
      "outputs": []
    },
    {
      "cell_type": "code",
      "metadata": {
        "id": "BlAfjnYaUReh"
      },
      "source": [
        "ilpd = pd.read_csv('https://www.openml.org/data/get_csv/1590565/phpOJxGL9')"
      ],
      "execution_count": 2,
      "outputs": []
    },
    {
      "cell_type": "code",
      "metadata": {
        "id": "j73aNJmpbDoT"
      },
      "source": [
        "y = np.array(ilpd['Class'])\n",
        "x = np.array(ilpd.drop('Class', axis=1))"
      ],
      "execution_count": 11,
      "outputs": []
    },
    {
      "cell_type": "code",
      "metadata": {
        "colab": {
          "base_uri": "https://localhost:8080/",
          "height": 204
        },
        "id": "4gXRxHMtZ55o",
        "outputId": "f8dfb7f6-0054-4321-ea46-9d66bc4e5504"
      },
      "source": [
        "ilpd.head()"
      ],
      "execution_count": 6,
      "outputs": [
        {
          "output_type": "execute_result",
          "data": {
            "text/html": [
              "<div>\n",
              "<style scoped>\n",
              "    .dataframe tbody tr th:only-of-type {\n",
              "        vertical-align: middle;\n",
              "    }\n",
              "\n",
              "    .dataframe tbody tr th {\n",
              "        vertical-align: top;\n",
              "    }\n",
              "\n",
              "    .dataframe thead th {\n",
              "        text-align: right;\n",
              "    }\n",
              "</style>\n",
              "<table border=\"1\" class=\"dataframe\">\n",
              "  <thead>\n",
              "    <tr style=\"text-align: right;\">\n",
              "      <th></th>\n",
              "      <th>V1</th>\n",
              "      <th>V2</th>\n",
              "      <th>V3</th>\n",
              "      <th>V4</th>\n",
              "      <th>V5</th>\n",
              "      <th>V6</th>\n",
              "      <th>V7</th>\n",
              "      <th>V8</th>\n",
              "      <th>V9</th>\n",
              "      <th>V10</th>\n",
              "      <th>Class</th>\n",
              "    </tr>\n",
              "  </thead>\n",
              "  <tbody>\n",
              "    <tr>\n",
              "      <th>0</th>\n",
              "      <td>65</td>\n",
              "      <td>Female</td>\n",
              "      <td>0.7</td>\n",
              "      <td>0.1</td>\n",
              "      <td>187</td>\n",
              "      <td>16</td>\n",
              "      <td>18</td>\n",
              "      <td>6.8</td>\n",
              "      <td>3.3</td>\n",
              "      <td>0.90</td>\n",
              "      <td>1</td>\n",
              "    </tr>\n",
              "    <tr>\n",
              "      <th>1</th>\n",
              "      <td>62</td>\n",
              "      <td>Male</td>\n",
              "      <td>10.9</td>\n",
              "      <td>5.5</td>\n",
              "      <td>699</td>\n",
              "      <td>64</td>\n",
              "      <td>100</td>\n",
              "      <td>7.5</td>\n",
              "      <td>3.2</td>\n",
              "      <td>0.74</td>\n",
              "      <td>1</td>\n",
              "    </tr>\n",
              "    <tr>\n",
              "      <th>2</th>\n",
              "      <td>62</td>\n",
              "      <td>Male</td>\n",
              "      <td>7.3</td>\n",
              "      <td>4.1</td>\n",
              "      <td>490</td>\n",
              "      <td>60</td>\n",
              "      <td>68</td>\n",
              "      <td>7.0</td>\n",
              "      <td>3.3</td>\n",
              "      <td>0.89</td>\n",
              "      <td>1</td>\n",
              "    </tr>\n",
              "    <tr>\n",
              "      <th>3</th>\n",
              "      <td>58</td>\n",
              "      <td>Male</td>\n",
              "      <td>1.0</td>\n",
              "      <td>0.4</td>\n",
              "      <td>182</td>\n",
              "      <td>14</td>\n",
              "      <td>20</td>\n",
              "      <td>6.8</td>\n",
              "      <td>3.4</td>\n",
              "      <td>1.00</td>\n",
              "      <td>1</td>\n",
              "    </tr>\n",
              "    <tr>\n",
              "      <th>4</th>\n",
              "      <td>72</td>\n",
              "      <td>Male</td>\n",
              "      <td>3.9</td>\n",
              "      <td>2.0</td>\n",
              "      <td>195</td>\n",
              "      <td>27</td>\n",
              "      <td>59</td>\n",
              "      <td>7.3</td>\n",
              "      <td>2.4</td>\n",
              "      <td>0.40</td>\n",
              "      <td>1</td>\n",
              "    </tr>\n",
              "  </tbody>\n",
              "</table>\n",
              "</div>"
            ],
            "text/plain": [
              "   V1      V2    V3   V4   V5  V6   V7   V8   V9   V10  Class\n",
              "0  65  Female   0.7  0.1  187  16   18  6.8  3.3  0.90      1\n",
              "1  62    Male  10.9  5.5  699  64  100  7.5  3.2  0.74      1\n",
              "2  62    Male   7.3  4.1  490  60   68  7.0  3.3  0.89      1\n",
              "3  58    Male   1.0  0.4  182  14   20  6.8  3.4  1.00      1\n",
              "4  72    Male   3.9  2.0  195  27   59  7.3  2.4  0.40      1"
            ]
          },
          "metadata": {
            "tags": []
          },
          "execution_count": 6
        }
      ]
    },
    {
      "cell_type": "code",
      "metadata": {
        "colab": {
          "base_uri": "https://localhost:8080/"
        },
        "id": "ihrXHhAeZ7wD",
        "outputId": "a46497e9-1fc7-4dae-bbe3-e60397baa958"
      },
      "source": [
        "# mapeando o atributo categórico V2\n",
        "ilpd['V2'].value_counts()"
      ],
      "execution_count": 7,
      "outputs": [
        {
          "output_type": "execute_result",
          "data": {
            "text/plain": [
              "Male      441\n",
              "Female    142\n",
              "Name: V2, dtype: int64"
            ]
          },
          "metadata": {
            "tags": []
          },
          "execution_count": 7
        }
      ]
    },
    {
      "cell_type": "code",
      "metadata": {
        "colab": {
          "base_uri": "https://localhost:8080/",
          "height": 204
        },
        "id": "WLHUMP8baEv3",
        "outputId": "923b8539-8fe5-4bfa-dcda-34f081baf6de"
      },
      "source": [
        "#Convertendo o atributo categórigo da V2 em numérico:\n",
        "#0 = Male\n",
        "#1 = Female\n",
        "\n",
        "name_to_class = {'Male': 0, 'Female': 1}\n",
        "\n",
        "#substituindo os valores categóricos pelo mapeamento\n",
        "ilpd['V2'] = ilpd['V2'].map(name_to_class)\n",
        "\n",
        "#Conferindo a alteração\n",
        "ilpd.head(5)"
      ],
      "execution_count": 8,
      "outputs": [
        {
          "output_type": "execute_result",
          "data": {
            "text/html": [
              "<div>\n",
              "<style scoped>\n",
              "    .dataframe tbody tr th:only-of-type {\n",
              "        vertical-align: middle;\n",
              "    }\n",
              "\n",
              "    .dataframe tbody tr th {\n",
              "        vertical-align: top;\n",
              "    }\n",
              "\n",
              "    .dataframe thead th {\n",
              "        text-align: right;\n",
              "    }\n",
              "</style>\n",
              "<table border=\"1\" class=\"dataframe\">\n",
              "  <thead>\n",
              "    <tr style=\"text-align: right;\">\n",
              "      <th></th>\n",
              "      <th>V1</th>\n",
              "      <th>V2</th>\n",
              "      <th>V3</th>\n",
              "      <th>V4</th>\n",
              "      <th>V5</th>\n",
              "      <th>V6</th>\n",
              "      <th>V7</th>\n",
              "      <th>V8</th>\n",
              "      <th>V9</th>\n",
              "      <th>V10</th>\n",
              "      <th>Class</th>\n",
              "    </tr>\n",
              "  </thead>\n",
              "  <tbody>\n",
              "    <tr>\n",
              "      <th>0</th>\n",
              "      <td>65</td>\n",
              "      <td>1</td>\n",
              "      <td>0.7</td>\n",
              "      <td>0.1</td>\n",
              "      <td>187</td>\n",
              "      <td>16</td>\n",
              "      <td>18</td>\n",
              "      <td>6.8</td>\n",
              "      <td>3.3</td>\n",
              "      <td>0.90</td>\n",
              "      <td>1</td>\n",
              "    </tr>\n",
              "    <tr>\n",
              "      <th>1</th>\n",
              "      <td>62</td>\n",
              "      <td>0</td>\n",
              "      <td>10.9</td>\n",
              "      <td>5.5</td>\n",
              "      <td>699</td>\n",
              "      <td>64</td>\n",
              "      <td>100</td>\n",
              "      <td>7.5</td>\n",
              "      <td>3.2</td>\n",
              "      <td>0.74</td>\n",
              "      <td>1</td>\n",
              "    </tr>\n",
              "    <tr>\n",
              "      <th>2</th>\n",
              "      <td>62</td>\n",
              "      <td>0</td>\n",
              "      <td>7.3</td>\n",
              "      <td>4.1</td>\n",
              "      <td>490</td>\n",
              "      <td>60</td>\n",
              "      <td>68</td>\n",
              "      <td>7.0</td>\n",
              "      <td>3.3</td>\n",
              "      <td>0.89</td>\n",
              "      <td>1</td>\n",
              "    </tr>\n",
              "    <tr>\n",
              "      <th>3</th>\n",
              "      <td>58</td>\n",
              "      <td>0</td>\n",
              "      <td>1.0</td>\n",
              "      <td>0.4</td>\n",
              "      <td>182</td>\n",
              "      <td>14</td>\n",
              "      <td>20</td>\n",
              "      <td>6.8</td>\n",
              "      <td>3.4</td>\n",
              "      <td>1.00</td>\n",
              "      <td>1</td>\n",
              "    </tr>\n",
              "    <tr>\n",
              "      <th>4</th>\n",
              "      <td>72</td>\n",
              "      <td>0</td>\n",
              "      <td>3.9</td>\n",
              "      <td>2.0</td>\n",
              "      <td>195</td>\n",
              "      <td>27</td>\n",
              "      <td>59</td>\n",
              "      <td>7.3</td>\n",
              "      <td>2.4</td>\n",
              "      <td>0.40</td>\n",
              "      <td>1</td>\n",
              "    </tr>\n",
              "  </tbody>\n",
              "</table>\n",
              "</div>"
            ],
            "text/plain": [
              "   V1  V2    V3   V4   V5  V6   V7   V8   V9   V10  Class\n",
              "0  65   1   0.7  0.1  187  16   18  6.8  3.3  0.90      1\n",
              "1  62   0  10.9  5.5  699  64  100  7.5  3.2  0.74      1\n",
              "2  62   0   7.3  4.1  490  60   68  7.0  3.3  0.89      1\n",
              "3  58   0   1.0  0.4  182  14   20  6.8  3.4  1.00      1\n",
              "4  72   0   3.9  2.0  195  27   59  7.3  2.4  0.40      1"
            ]
          },
          "metadata": {
            "tags": []
          },
          "execution_count": 8
        }
      ]
    },
    {
      "cell_type": "markdown",
      "metadata": {
        "id": "WAcnjQ4PY4eE"
      },
      "source": [
        "## Perguntas"
      ]
    },
    {
      "cell_type": "code",
      "metadata": {
        "colab": {
          "base_uri": "https://localhost:8080/"
        },
        "id": "No56S04sY5ki",
        "outputId": "d46522c8-c643-4b75-fcaa-10e3a0b57f6b"
      },
      "source": [
        "# Sobre as informações de número de features e amostras, marque a alternativa CORRETA.\n",
        "ilpd.shape"
      ],
      "execution_count": 3,
      "outputs": [
        {
          "output_type": "execute_result",
          "data": {
            "text/plain": [
              "(583, 11)"
            ]
          },
          "metadata": {
            "tags": []
          },
          "execution_count": 3
        }
      ]
    },
    {
      "cell_type": "code",
      "metadata": {
        "colab": {
          "base_uri": "https://localhost:8080/"
        },
        "id": "ZmyA1Ng_ZO53",
        "outputId": "ade49b79-9898-4cc9-e44e-85b0bb853f61"
      },
      "source": [
        "# Essa base conta com 3 atributos categóricos. Precisamos fazer o pré processamento desses atributos para que todos sejam numéricos.\n",
        "ilpd.info()"
      ],
      "execution_count": 4,
      "outputs": [
        {
          "output_type": "stream",
          "text": [
            "<class 'pandas.core.frame.DataFrame'>\n",
            "RangeIndex: 583 entries, 0 to 582\n",
            "Data columns (total 11 columns):\n",
            " #   Column  Non-Null Count  Dtype  \n",
            "---  ------  --------------  -----  \n",
            " 0   V1      583 non-null    int64  \n",
            " 1   V2      583 non-null    object \n",
            " 2   V3      583 non-null    float64\n",
            " 3   V4      583 non-null    float64\n",
            " 4   V5      583 non-null    int64  \n",
            " 5   V6      583 non-null    int64  \n",
            " 6   V7      583 non-null    int64  \n",
            " 7   V8      583 non-null    float64\n",
            " 8   V9      583 non-null    float64\n",
            " 9   V10     583 non-null    float64\n",
            " 10  Class   583 non-null    int64  \n",
            "dtypes: float64(5), int64(5), object(1)\n",
            "memory usage: 50.2+ KB\n"
          ],
          "name": "stdout"
        }
      ]
    },
    {
      "cell_type": "code",
      "metadata": {
        "colab": {
          "base_uri": "https://localhost:8080/"
        },
        "id": "9Uk6i9W-ZlKT",
        "outputId": "a8b7166f-4019-408b-abf5-31f8b04cc6bd"
      },
      "source": [
        "# A base não tem dados faltantes.\n",
        "ilpd.isnull().sum()"
      ],
      "execution_count": 5,
      "outputs": [
        {
          "output_type": "execute_result",
          "data": {
            "text/plain": [
              "V1       0\n",
              "V2       0\n",
              "V3       0\n",
              "V4       0\n",
              "V5       0\n",
              "V6       0\n",
              "V7       0\n",
              "V8       0\n",
              "V9       0\n",
              "V10      0\n",
              "Class    0\n",
              "dtype: int64"
            ]
          },
          "metadata": {
            "tags": []
          },
          "execution_count": 5
        }
      ]
    },
    {
      "cell_type": "code",
      "metadata": {
        "colab": {
          "base_uri": "https://localhost:8080/"
        },
        "id": "7jGnldfnZsiz",
        "outputId": "7bfce6ef-b781-4099-f828-fa7835dfbaf7"
      },
      "source": [
        "# instanciando o classificador SVC\n",
        "clf_svc = SVC()\n",
        "\n",
        "# definindo o tipo de validação cruzada e o número de folds\n",
        "cv_strat_svc = StratifiedKFold(n_splits=10)\n",
        "\n",
        "# definindo a estratégia de score a partir da métrica f1\n",
        "f1_svc = make_scorer(f1_score)\n",
        "\n",
        "# definindo hiperparâmetros\n",
        "#hiperparam = dict(kernel = ['sigmoid', 'poly', 'rbf'], C = uniform(loc=1, scale=10))\n",
        "hiperparam = {'kernel':('sigmoid', 'poly', 'rbf'), 'C':uniform(1, 10)}\n",
        "\n",
        "# instanciando e modelando o random search com os hiperparametros e a validação definidas.\n",
        "random_cv_svc = RandomizedSearchCV(clf_svc, hiperparam, cv=cv_strat_svc, scoring=f1_svc, random_state=54, n_iter=5)\n",
        "random_cv_svc.fit(x, y)"
      ],
      "execution_count": 34,
      "outputs": [
        {
          "output_type": "execute_result",
          "data": {
            "text/plain": [
              "RandomizedSearchCV(cv=StratifiedKFold(n_splits=10, random_state=None, shuffle=False),\n",
              "                   error_score=nan,\n",
              "                   estimator=SVC(C=1.0, break_ties=False, cache_size=200,\n",
              "                                 class_weight=None, coef0=0.0,\n",
              "                                 decision_function_shape='ovr', degree=3,\n",
              "                                 gamma='scale', kernel='rbf', max_iter=-1,\n",
              "                                 probability=False, random_state=None,\n",
              "                                 shrinking=True, tol=0.001, verbose=False),\n",
              "                   iid='deprecated', n_iter=5, n_jobs=None,\n",
              "                   param_distributions={'C': <scipy.stats._distn_infrastructure.rv_frozen object at 0x7f2dccb051d0>,\n",
              "                                        'kernel': ('sigmoid', 'poly', 'rbf')},\n",
              "                   pre_dispatch='2*n_jobs', random_state=54, refit=True,\n",
              "                   return_train_score=False, scoring=make_scorer(f1_score),\n",
              "                   verbose=0)"
            ]
          },
          "metadata": {
            "tags": []
          },
          "execution_count": 34
        }
      ]
    },
    {
      "cell_type": "code",
      "metadata": {
        "id": "vlQ_yHmrbt1u",
        "outputId": "7de8ed0d-4a0f-4ec2-c869-1ebee2bf13a6",
        "colab": {
          "base_uri": "https://localhost:8080/"
        }
      },
      "source": [
        "#apresentando os melhores resultados encontrados pelo Random Search com o SVC\n",
        "print('F1:', random_cv_svc.best_score_)\n",
        "print('\\n Melhores hiperparâmetros:', random_cv_svc.best_params_)\n",
        "print( '\\n Melhor modelo: \\n', random_cv_svc.best_estimator_)"
      ],
      "execution_count": 35,
      "outputs": [
        {
          "output_type": "stream",
          "text": [
            "F1: 0.832818081808181\n",
            "\n",
            " Melhores hiperparâmetros: {'C': 5.201829671407738, 'kernel': 'rbf'}\n",
            "\n",
            " Melhor modelo: \n",
            " SVC(C=5.201829671407738, break_ties=False, cache_size=200, class_weight=None,\n",
            "    coef0=0.0, decision_function_shape='ovr', degree=3, gamma='scale',\n",
            "    kernel='rbf', max_iter=-1, probability=False, random_state=None,\n",
            "    shrinking=True, tol=0.001, verbose=False)\n"
          ],
          "name": "stdout"
        }
      ]
    },
    {
      "cell_type": "code",
      "metadata": {
        "id": "r1YaultjccvW",
        "outputId": "ca8b198d-b1e6-4f1f-9a1f-b88155f943a6",
        "colab": {
          "base_uri": "https://localhost:8080/"
        }
      },
      "source": [
        "#Repetindo usando random forest\n",
        "clf_rf = RandomForestClassifier(random_state=54)\n",
        "\n",
        "#definindo o tipo de validação cruzada e o número de folds\n",
        "cv_strat_rf = StratifiedKFold(n_splits=10)\n",
        "\n",
        "#definindo a estratégia de score a partir da métrica f1\n",
        "f1_rf = make_scorer(f1_score)\n",
        "\n",
        "#Hiperparâmetros\n",
        "hiperparam1 = {'n_estimators':randint(10, 1000), 'bootstrap': (True, False), 'criterion': ('gini', 'entropy')}\n",
        "\n",
        "random_cv_rf = RandomizedSearchCV(clf_rf, hiperparam1, cv=cv_strat_rf, scoring=f1_rf, random_state=54, n_iter=5)\n",
        "random_cv_rf.fit(x, y)"
      ],
      "execution_count": 36,
      "outputs": [
        {
          "output_type": "execute_result",
          "data": {
            "text/plain": [
              "RandomizedSearchCV(cv=StratifiedKFold(n_splits=10, random_state=None, shuffle=False),\n",
              "                   error_score=nan,\n",
              "                   estimator=RandomForestClassifier(bootstrap=True,\n",
              "                                                    ccp_alpha=0.0,\n",
              "                                                    class_weight=None,\n",
              "                                                    criterion='gini',\n",
              "                                                    max_depth=None,\n",
              "                                                    max_features='auto',\n",
              "                                                    max_leaf_nodes=None,\n",
              "                                                    max_samples=None,\n",
              "                                                    min_impurity_decrease=0.0,\n",
              "                                                    min_impurity_split=None,\n",
              "                                                    min_samples_leaf=1,\n",
              "                                                    min_samples_s...\n",
              "                                                    random_state=54, verbose=0,\n",
              "                                                    warm_start=False),\n",
              "                   iid='deprecated', n_iter=5, n_jobs=None,\n",
              "                   param_distributions={'bootstrap': (True, False),\n",
              "                                        'criterion': ('gini', 'entropy'),\n",
              "                                        'n_estimators': <scipy.stats._distn_infrastructure.rv_frozen object at 0x7f2dc8aef2d0>},\n",
              "                   pre_dispatch='2*n_jobs', random_state=54, refit=True,\n",
              "                   return_train_score=False, scoring=make_scorer(f1_score),\n",
              "                   verbose=0)"
            ]
          },
          "metadata": {
            "tags": []
          },
          "execution_count": 36
        }
      ]
    },
    {
      "cell_type": "code",
      "metadata": {
        "id": "klhzMH7Mgdut",
        "outputId": "912d1d39-ce8b-4149-e9fa-d611257d8b5a",
        "colab": {
          "base_uri": "https://localhost:8080/"
        }
      },
      "source": [
        "#apresentando os melhores resultados encontrados pelo Random Search com o SVC\n",
        "print('F1:', random_cv_rf.best_score_)\n",
        "print('\\n Melhores hiperparâmetros:', random_cv_rf.best_params_)\n",
        "print( '\\n Melhor modelo: \\n', random_cv_rf.best_estimator_)"
      ],
      "execution_count": 37,
      "outputs": [
        {
          "output_type": "stream",
          "text": [
            "F1: 0.7953796472310697\n",
            "\n",
            " Melhores hiperparâmetros: {'bootstrap': True, 'criterion': 'gini', 'n_estimators': 913}\n",
            "\n",
            " Melhor modelo: \n",
            " RandomForestClassifier(bootstrap=True, ccp_alpha=0.0, class_weight=None,\n",
            "                       criterion='gini', max_depth=None, max_features='auto',\n",
            "                       max_leaf_nodes=None, max_samples=None,\n",
            "                       min_impurity_decrease=0.0, min_impurity_split=None,\n",
            "                       min_samples_leaf=1, min_samples_split=2,\n",
            "                       min_weight_fraction_leaf=0.0, n_estimators=913,\n",
            "                       n_jobs=None, oob_score=False, random_state=54, verbose=0,\n",
            "                       warm_start=False)\n"
          ],
          "name": "stdout"
        }
      ]
    }
  ]
}