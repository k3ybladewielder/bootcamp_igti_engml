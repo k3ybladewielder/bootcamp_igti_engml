{
  "nbformat": 4,
  "nbformat_minor": 0,
  "metadata": {
    "colab": {
      "name": "trabalho_pratico3.ipynb",
      "provenance": [],
      "collapsed_sections": []
    },
    "kernelspec": {
      "name": "python3",
      "display_name": "Python 3"
    },
    "language_info": {
      "name": "python"
    }
  },
  "cells": [
    {
      "cell_type": "markdown",
      "metadata": {
        "id": "HktQn7JaSCss"
      },
      "source": [
        "# Trabalho Prático Módulo 3\n",
        "\n",
        "Bootcamp Engenheiro de Machine Learning @ IGTI\n",
        "\n",
        "Objetivos:\n",
        "*   Exercitar conceitos sobre medidas de desempenho para regressão.\n",
        "*   Modelar um problema como uma tarefa de regressão.\n",
        "*   Avaliar um modelo de regressão.\n",
        "*   Exercitar conceitos sobre medidas de desempenho para classificação.\n",
        "*   Modelar um problema como uma tarefa de classificação.\n",
        "*   Avaliar um modelo de classificação.\n",
        "*   Exercitar conceitos sobre medidas de desempenho para clusterização.\n",
        "*   Modelar um problema como uma tarefa de clusterização.\n",
        "*   Avaliar um modelo de clustering."
      ]
    },
    {
      "cell_type": "markdown",
      "metadata": {
        "id": "Ix5BpDViUiw8"
      },
      "source": [
        "## Importação"
      ]
    },
    {
      "cell_type": "code",
      "metadata": {
        "id": "g2u1ohkURtb1"
      },
      "source": [
        "import pandas as pd\n",
        "import numpy as np\n",
        "import matplotlib.pyplot as plt\n",
        "import seaborn as sns\n",
        "import plotly.express as px"
      ],
      "execution_count": 1,
      "outputs": []
    },
    {
      "cell_type": "code",
      "metadata": {
        "id": "8hq9GA-0TwWP"
      },
      "source": [
        "#Regression task com regressão linear\n",
        "diabetes = pd.read_csv('/content/drive/MyDrive/01 - Data Science/bootcamp engenheiro de ml/modulo 3 - selecao de modelos de aprendizado de maquina/trabalho pratico modulo 3/diabetes_numeric.csv')\n",
        "\n",
        "#Classification task com SVM\n",
        "bloodtransf = pd.read_csv('/content/drive/MyDrive/01 - Data Science/bootcamp engenheiro de ml/modulo 3 - selecao de modelos de aprendizado de maquina/trabalho pratico modulo 3/bloodtransf.csv')\n",
        "\n",
        "#Cluster task com KMeans\n",
        "wine = pd.read_csv('/content/drive/MyDrive/01 - Data Science/bootcamp engenheiro de ml/modulo 3 - selecao de modelos de aprendizado de maquina/trabalho pratico modulo 3/wine.csv')"
      ],
      "execution_count": 39,
      "outputs": []
    },
    {
      "cell_type": "code",
      "metadata": {
        "id": "3hUI2KhKV8zE"
      },
      "source": [
        "#Modelos\n",
        "from sklearn.linear_model import LinearRegression\n",
        "from sklearn.cluster import KMeans\n",
        "from sklearn.svm import SVC #com kernel=rbf\n",
        "\n",
        "from sklearn.model_selection import train_test_split #test_size = 0.35 e random_state = 54"
      ],
      "execution_count": 3,
      "outputs": []
    },
    {
      "cell_type": "code",
      "metadata": {
        "colab": {
          "base_uri": "https://localhost:8080/",
          "height": 204
        },
        "id": "QayvpEJjb7Km",
        "outputId": "44167452-1b5a-4bad-9ceb-31abff7e970a"
      },
      "source": [
        "diabetes.head()"
      ],
      "execution_count": 4,
      "outputs": [
        {
          "output_type": "execute_result",
          "data": {
            "text/html": [
              "<div>\n",
              "<style scoped>\n",
              "    .dataframe tbody tr th:only-of-type {\n",
              "        vertical-align: middle;\n",
              "    }\n",
              "\n",
              "    .dataframe tbody tr th {\n",
              "        vertical-align: top;\n",
              "    }\n",
              "\n",
              "    .dataframe thead th {\n",
              "        text-align: right;\n",
              "    }\n",
              "</style>\n",
              "<table border=\"1\" class=\"dataframe\">\n",
              "  <thead>\n",
              "    <tr style=\"text-align: right;\">\n",
              "      <th></th>\n",
              "      <th>age</th>\n",
              "      <th>deficit</th>\n",
              "      <th>c_peptide</th>\n",
              "    </tr>\n",
              "  </thead>\n",
              "  <tbody>\n",
              "    <tr>\n",
              "      <th>0</th>\n",
              "      <td>5.2</td>\n",
              "      <td>-8.1</td>\n",
              "      <td>4.8</td>\n",
              "    </tr>\n",
              "    <tr>\n",
              "      <th>1</th>\n",
              "      <td>8.8</td>\n",
              "      <td>-16.1</td>\n",
              "      <td>4.1</td>\n",
              "    </tr>\n",
              "    <tr>\n",
              "      <th>2</th>\n",
              "      <td>10.5</td>\n",
              "      <td>-0.9</td>\n",
              "      <td>5.2</td>\n",
              "    </tr>\n",
              "    <tr>\n",
              "      <th>3</th>\n",
              "      <td>10.6</td>\n",
              "      <td>-7.8</td>\n",
              "      <td>5.5</td>\n",
              "    </tr>\n",
              "    <tr>\n",
              "      <th>4</th>\n",
              "      <td>10.4</td>\n",
              "      <td>-29.0</td>\n",
              "      <td>5.0</td>\n",
              "    </tr>\n",
              "  </tbody>\n",
              "</table>\n",
              "</div>"
            ],
            "text/plain": [
              "    age  deficit  c_peptide\n",
              "0   5.2     -8.1        4.8\n",
              "1   8.8    -16.1        4.1\n",
              "2  10.5     -0.9        5.2\n",
              "3  10.6     -7.8        5.5\n",
              "4  10.4    -29.0        5.0"
            ]
          },
          "metadata": {
            "tags": []
          },
          "execution_count": 4
        }
      ]
    },
    {
      "cell_type": "code",
      "metadata": {
        "colab": {
          "base_uri": "https://localhost:8080/",
          "height": 204
        },
        "id": "2sSJWn_Ub2vX",
        "outputId": "84293c24-79ce-4a49-c0fc-ae4054e0c091"
      },
      "source": [
        "bloodtransf.head()"
      ],
      "execution_count": 5,
      "outputs": [
        {
          "output_type": "execute_result",
          "data": {
            "text/html": [
              "<div>\n",
              "<style scoped>\n",
              "    .dataframe tbody tr th:only-of-type {\n",
              "        vertical-align: middle;\n",
              "    }\n",
              "\n",
              "    .dataframe tbody tr th {\n",
              "        vertical-align: top;\n",
              "    }\n",
              "\n",
              "    .dataframe thead th {\n",
              "        text-align: right;\n",
              "    }\n",
              "</style>\n",
              "<table border=\"1\" class=\"dataframe\">\n",
              "  <thead>\n",
              "    <tr style=\"text-align: right;\">\n",
              "      <th></th>\n",
              "      <th>V1</th>\n",
              "      <th>V2</th>\n",
              "      <th>V3</th>\n",
              "      <th>V4</th>\n",
              "      <th>Class</th>\n",
              "    </tr>\n",
              "  </thead>\n",
              "  <tbody>\n",
              "    <tr>\n",
              "      <th>0</th>\n",
              "      <td>2</td>\n",
              "      <td>50</td>\n",
              "      <td>12500</td>\n",
              "      <td>98</td>\n",
              "      <td>2</td>\n",
              "    </tr>\n",
              "    <tr>\n",
              "      <th>1</th>\n",
              "      <td>0</td>\n",
              "      <td>13</td>\n",
              "      <td>3250</td>\n",
              "      <td>28</td>\n",
              "      <td>2</td>\n",
              "    </tr>\n",
              "    <tr>\n",
              "      <th>2</th>\n",
              "      <td>1</td>\n",
              "      <td>16</td>\n",
              "      <td>4000</td>\n",
              "      <td>35</td>\n",
              "      <td>2</td>\n",
              "    </tr>\n",
              "    <tr>\n",
              "      <th>3</th>\n",
              "      <td>2</td>\n",
              "      <td>20</td>\n",
              "      <td>5000</td>\n",
              "      <td>45</td>\n",
              "      <td>2</td>\n",
              "    </tr>\n",
              "    <tr>\n",
              "      <th>4</th>\n",
              "      <td>1</td>\n",
              "      <td>24</td>\n",
              "      <td>6000</td>\n",
              "      <td>77</td>\n",
              "      <td>1</td>\n",
              "    </tr>\n",
              "  </tbody>\n",
              "</table>\n",
              "</div>"
            ],
            "text/plain": [
              "   V1  V2     V3  V4  Class\n",
              "0   2  50  12500  98      2\n",
              "1   0  13   3250  28      2\n",
              "2   1  16   4000  35      2\n",
              "3   2  20   5000  45      2\n",
              "4   1  24   6000  77      1"
            ]
          },
          "metadata": {
            "tags": []
          },
          "execution_count": 5
        }
      ]
    },
    {
      "cell_type": "code",
      "metadata": {
        "colab": {
          "base_uri": "https://localhost:8080/",
          "height": 224
        },
        "id": "yXnwRkc3bVdc",
        "outputId": "788e3203-3402-4497-81fc-13b214c77101"
      },
      "source": [
        "wine.head()"
      ],
      "execution_count": 6,
      "outputs": [
        {
          "output_type": "execute_result",
          "data": {
            "text/html": [
              "<div>\n",
              "<style scoped>\n",
              "    .dataframe tbody tr th:only-of-type {\n",
              "        vertical-align: middle;\n",
              "    }\n",
              "\n",
              "    .dataframe tbody tr th {\n",
              "        vertical-align: top;\n",
              "    }\n",
              "\n",
              "    .dataframe thead th {\n",
              "        text-align: right;\n",
              "    }\n",
              "</style>\n",
              "<table border=\"1\" class=\"dataframe\">\n",
              "  <thead>\n",
              "    <tr style=\"text-align: right;\">\n",
              "      <th></th>\n",
              "      <th>class</th>\n",
              "      <th>Alcohol</th>\n",
              "      <th>Malic_acid</th>\n",
              "      <th>Ash</th>\n",
              "      <th>Alcalinity_of_ash</th>\n",
              "      <th>Magnesium</th>\n",
              "      <th>Total_phenols</th>\n",
              "      <th>Flavanoids</th>\n",
              "      <th>Nonflavanoid_phenols</th>\n",
              "      <th>Proanthocyanins</th>\n",
              "      <th>Color_intensity</th>\n",
              "      <th>Hue</th>\n",
              "      <th>OD280%2FOD315_of_diluted_wines</th>\n",
              "      <th>Proline</th>\n",
              "    </tr>\n",
              "  </thead>\n",
              "  <tbody>\n",
              "    <tr>\n",
              "      <th>0</th>\n",
              "      <td>1</td>\n",
              "      <td>14.23</td>\n",
              "      <td>1.71</td>\n",
              "      <td>2.43</td>\n",
              "      <td>15.6</td>\n",
              "      <td>127</td>\n",
              "      <td>2.80</td>\n",
              "      <td>3.06</td>\n",
              "      <td>0.28</td>\n",
              "      <td>2.29</td>\n",
              "      <td>5.64</td>\n",
              "      <td>1.04</td>\n",
              "      <td>3.92</td>\n",
              "      <td>1065</td>\n",
              "    </tr>\n",
              "    <tr>\n",
              "      <th>1</th>\n",
              "      <td>1</td>\n",
              "      <td>13.20</td>\n",
              "      <td>1.78</td>\n",
              "      <td>2.14</td>\n",
              "      <td>11.2</td>\n",
              "      <td>100</td>\n",
              "      <td>2.65</td>\n",
              "      <td>2.76</td>\n",
              "      <td>0.26</td>\n",
              "      <td>1.28</td>\n",
              "      <td>4.38</td>\n",
              "      <td>1.05</td>\n",
              "      <td>3.40</td>\n",
              "      <td>1050</td>\n",
              "    </tr>\n",
              "    <tr>\n",
              "      <th>2</th>\n",
              "      <td>1</td>\n",
              "      <td>13.16</td>\n",
              "      <td>2.36</td>\n",
              "      <td>2.67</td>\n",
              "      <td>18.6</td>\n",
              "      <td>101</td>\n",
              "      <td>2.80</td>\n",
              "      <td>3.24</td>\n",
              "      <td>0.30</td>\n",
              "      <td>2.81</td>\n",
              "      <td>5.68</td>\n",
              "      <td>1.03</td>\n",
              "      <td>3.17</td>\n",
              "      <td>1185</td>\n",
              "    </tr>\n",
              "    <tr>\n",
              "      <th>3</th>\n",
              "      <td>1</td>\n",
              "      <td>14.37</td>\n",
              "      <td>1.95</td>\n",
              "      <td>2.50</td>\n",
              "      <td>16.8</td>\n",
              "      <td>113</td>\n",
              "      <td>3.85</td>\n",
              "      <td>3.49</td>\n",
              "      <td>0.24</td>\n",
              "      <td>2.18</td>\n",
              "      <td>7.80</td>\n",
              "      <td>0.86</td>\n",
              "      <td>3.45</td>\n",
              "      <td>1480</td>\n",
              "    </tr>\n",
              "    <tr>\n",
              "      <th>4</th>\n",
              "      <td>1</td>\n",
              "      <td>13.24</td>\n",
              "      <td>2.59</td>\n",
              "      <td>2.87</td>\n",
              "      <td>21.0</td>\n",
              "      <td>118</td>\n",
              "      <td>2.80</td>\n",
              "      <td>2.69</td>\n",
              "      <td>0.39</td>\n",
              "      <td>1.82</td>\n",
              "      <td>4.32</td>\n",
              "      <td>1.04</td>\n",
              "      <td>2.93</td>\n",
              "      <td>735</td>\n",
              "    </tr>\n",
              "  </tbody>\n",
              "</table>\n",
              "</div>"
            ],
            "text/plain": [
              "   class  Alcohol  Malic_acid  ...   Hue  OD280%2FOD315_of_diluted_wines  Proline\n",
              "0      1    14.23        1.71  ...  1.04                            3.92     1065\n",
              "1      1    13.20        1.78  ...  1.05                            3.40     1050\n",
              "2      1    13.16        2.36  ...  1.03                            3.17     1185\n",
              "3      1    14.37        1.95  ...  0.86                            3.45     1480\n",
              "4      1    13.24        2.59  ...  1.04                            2.93      735\n",
              "\n",
              "[5 rows x 14 columns]"
            ]
          },
          "metadata": {
            "tags": []
          },
          "execution_count": 6
        }
      ]
    },
    {
      "cell_type": "code",
      "metadata": {
        "id": "lGyW_9OUVH2K"
      },
      "source": [
        "#Metricas\n",
        "from sklearn.metrics import r2_score, mean_absolute_error, mean_squared_error, accuracy_score, precision_score, recall_score, f1_score, roc_auc_score, silhouette_score, davies_bouldin_score, mutual_info_score"
      ],
      "execution_count": 7,
      "outputs": []
    },
    {
      "cell_type": "markdown",
      "metadata": {
        "id": "NECoBWEkVxMz"
      },
      "source": [
        "## Perguntas"
      ]
    },
    {
      "cell_type": "code",
      "metadata": {
        "colab": {
          "base_uri": "https://localhost:8080/"
        },
        "id": "4CBPHQBnYSMv",
        "outputId": "2c4c0942-f347-4f2c-d6d1-6ecc72e435e1"
      },
      "source": [
        "# Sobre o número de atributos da base de regressão, marque a alternativa CORRETA:\n",
        "diabetes.shape"
      ],
      "execution_count": 8,
      "outputs": [
        {
          "output_type": "execute_result",
          "data": {
            "text/plain": [
              "(43, 3)"
            ]
          },
          "metadata": {
            "tags": []
          },
          "execution_count": 8
        }
      ]
    },
    {
      "cell_type": "code",
      "metadata": {
        "colab": {
          "base_uri": "https://localhost:8080/"
        },
        "id": "OiW_QyyBY9y7",
        "outputId": "f0857a8a-2eb3-4876-92a3-c6b172b09d84"
      },
      "source": [
        "# Sobre o número de instâncias da base de classificação, marque a alternativa CORRETA:\n",
        "bloodtransf.shape"
      ],
      "execution_count": 9,
      "outputs": [
        {
          "output_type": "execute_result",
          "data": {
            "text/plain": [
              "(748, 5)"
            ]
          },
          "metadata": {
            "tags": []
          },
          "execution_count": 9
        }
      ]
    },
    {
      "cell_type": "code",
      "metadata": {
        "colab": {
          "base_uri": "https://localhost:8080/"
        },
        "id": "aR9EfhsQZMNW",
        "outputId": "4884d858-2c3a-48ca-a7fc-8d56077ab46d"
      },
      "source": [
        "# Sobre a base de clusterização, marque a alternativa CORRETA:\n",
        "wine.shape"
      ],
      "execution_count": 10,
      "outputs": [
        {
          "output_type": "execute_result",
          "data": {
            "text/plain": [
              "(178, 14)"
            ]
          },
          "metadata": {
            "tags": []
          },
          "execution_count": 10
        }
      ]
    },
    {
      "cell_type": "code",
      "metadata": {
        "colab": {
          "base_uri": "https://localhost:8080/"
        },
        "id": "JV2lvQv1tQQy",
        "outputId": "79cce43b-116b-4e4f-8199-ac3755b45bbc"
      },
      "source": [
        "wine['class'].unique()"
      ],
      "execution_count": 11,
      "outputs": [
        {
          "output_type": "execute_result",
          "data": {
            "text/plain": [
              "array([1, 2, 3])"
            ]
          },
          "metadata": {
            "tags": []
          },
          "execution_count": 11
        }
      ]
    },
    {
      "cell_type": "code",
      "metadata": {
        "id": "mMYCrJnCaxP6"
      },
      "source": [
        "#Sobre dados faltantes, marque a alternativa CORRETA:"
      ],
      "execution_count": 12,
      "outputs": []
    },
    {
      "cell_type": "code",
      "metadata": {
        "colab": {
          "base_uri": "https://localhost:8080/"
        },
        "id": "Rtt-UsAYa1L8",
        "outputId": "16ca923d-c4db-420a-a2f6-e731afb20327"
      },
      "source": [
        "diabetes.isnull().sum()"
      ],
      "execution_count": 13,
      "outputs": [
        {
          "output_type": "execute_result",
          "data": {
            "text/plain": [
              "age          0\n",
              "deficit      0\n",
              "c_peptide    0\n",
              "dtype: int64"
            ]
          },
          "metadata": {
            "tags": []
          },
          "execution_count": 13
        }
      ]
    },
    {
      "cell_type": "code",
      "metadata": {
        "colab": {
          "base_uri": "https://localhost:8080/"
        },
        "id": "PP4WWWIJa1WC",
        "outputId": "030798a1-8e87-49d3-d0e7-e5339fd79309"
      },
      "source": [
        "bloodtransf.isnull().sum()"
      ],
      "execution_count": 14,
      "outputs": [
        {
          "output_type": "execute_result",
          "data": {
            "text/plain": [
              "V1       0\n",
              "V2       0\n",
              "V3       0\n",
              "V4       0\n",
              "Class    0\n",
              "dtype: int64"
            ]
          },
          "metadata": {
            "tags": []
          },
          "execution_count": 14
        }
      ]
    },
    {
      "cell_type": "code",
      "metadata": {
        "colab": {
          "base_uri": "https://localhost:8080/"
        },
        "id": "c6TckdWja1fS",
        "outputId": "350042c1-72e0-4d42-de07-fa9459a1fe7c"
      },
      "source": [
        "wine.isnull().sum()"
      ],
      "execution_count": 15,
      "outputs": [
        {
          "output_type": "execute_result",
          "data": {
            "text/plain": [
              "class                             0\n",
              "Alcohol                           0\n",
              "Malic_acid                        0\n",
              "Ash                               0\n",
              "Alcalinity_of_ash                 0\n",
              "Magnesium                         0\n",
              "Total_phenols                     0\n",
              "Flavanoids                        0\n",
              "Nonflavanoid_phenols              0\n",
              "Proanthocyanins                   0\n",
              "Color_intensity                   0\n",
              "Hue                               0\n",
              "OD280%2FOD315_of_diluted_wines    0\n",
              "Proline                           0\n",
              "dtype: int64"
            ]
          },
          "metadata": {
            "tags": []
          },
          "execution_count": 15
        }
      ]
    },
    {
      "cell_type": "code",
      "metadata": {
        "colab": {
          "base_uri": "https://localhost:8080/"
        },
        "id": "eN8srq12bA6q",
        "outputId": "1ca745ab-8eac-4dc1-97f3-1a93fcf0a40b"
      },
      "source": [
        "# Em relação a modelagem utilizando a regressão linear, marque a alternativa CORRETA sobre a métrica r2, MAE e MSE: \n",
        "\n",
        "x_diabetes = diabetes.drop('c_peptide', axis=1)\n",
        "x_diabetes = np.array(x_diabetes)\n",
        "y_diabetes = np.array(diabetes['c_peptide'])\n",
        "\n",
        "x_treino_diabetes, x_teste_diabetes, y_treino_diabetes, y_teste_diabetes = train_test_split(x_diabetes, y_diabetes, test_size = 0.35, random_state = 54)\n",
        "\n",
        "lr = LinearRegression()\n",
        "lr.fit(x_treino_diabetes, y_treino_diabetes)\n",
        "lr_pred = lr.predict(x_teste_diabetes)\n",
        "\n",
        "#avaliando o modelo\n",
        "print('R2:', r2_score(y_teste_diabetes, lr_pred)) \n",
        "print('MAE:', mean_absolute_error(y_teste_diabetes, lr_pred))\n",
        "print('MSE:', mean_squared_error(y_teste_diabetes, lr_pred))"
      ],
      "execution_count": 16,
      "outputs": [
        {
          "output_type": "stream",
          "text": [
            "R2: 0.2730761502482787\n",
            "MAE: 0.5469803958260979\n",
            "MSE: 0.40159703152494497\n"
          ],
          "name": "stdout"
        }
      ]
    },
    {
      "cell_type": "code",
      "metadata": {
        "colab": {
          "base_uri": "https://localhost:8080/"
        },
        "id": "dDlKPdMAYVfn",
        "outputId": "a30fd330-7c79-4364-8164-029add982c82"
      },
      "source": [
        "# mapeando classes do bloodtransf\n",
        "bloodtransf['Class'].value_counts()"
      ],
      "execution_count": 40,
      "outputs": [
        {
          "output_type": "execute_result",
          "data": {
            "text/plain": [
              "1    570\n",
              "2    178\n",
              "Name: Class, dtype: int64"
            ]
          },
          "metadata": {
            "tags": []
          },
          "execution_count": 40
        }
      ]
    },
    {
      "cell_type": "code",
      "metadata": {
        "colab": {
          "base_uri": "https://localhost:8080/"
        },
        "id": "_Goj0o26agiA",
        "outputId": "da46213c-046a-46aa-a587-f2e60bcb6b77"
      },
      "source": [
        "# Substituindo\n",
        "bloodtransf['Class'] = bloodtransf['Class'].replace(1, 0)\n",
        "bloodtransf['Class'] = bloodtransf['Class'].replace(2, 1)\n",
        "\n",
        "bloodtransf['Class'].value_counts()"
      ],
      "execution_count": 43,
      "outputs": [
        {
          "output_type": "execute_result",
          "data": {
            "text/plain": [
              "0    570\n",
              "1    178\n",
              "Name: Class, dtype: int64"
            ]
          },
          "metadata": {
            "tags": []
          },
          "execution_count": 43
        }
      ]
    },
    {
      "cell_type": "code",
      "metadata": {
        "colab": {
          "base_uri": "https://localhost:8080/"
        },
        "id": "Sl8SitMyfPX_",
        "outputId": "817d2309-1963-4e81-be0d-4a8602bd6f0f"
      },
      "source": [
        "# Em relação a modelagem utilizando o SVM, marque a alternativa CORRETA sobre a métrica acurácia, precision e recall, f1 e AUROC: \n",
        "\n",
        "x_blood = bloodtransf.drop('Class', axis=1)\n",
        "x_blood = np.array(x_blood)\n",
        "y_blood = np.array(bloodtransf['Class'])\n",
        "\n",
        "x_treino_blood, x_teste_blood, y_treino_blood, y_teste_blood = train_test_split(x_blood, y_blood, test_size = 0.35, random_state = 54)\n",
        "\n",
        "svc = SVC(kernel='rbf')\n",
        "svc.fit(x_treino_blood, y_treino_blood)\n",
        "svm_pred = svc.predict(x_teste_blood)\n",
        "\n",
        "#avaliando o modelo\n",
        "print('Accuracy:', accuracy_score(y_teste_blood, svm_pred)) \n",
        "print('Precision:', precision_score(y_teste_blood, svm_pred))\n",
        "print('Recall:', recall_score(y_teste_blood, svm_pred))\n",
        "print('F1:', f1_score(y_teste_blood, svm_pred))\n",
        "print('AUROC:', roc_auc_score(y_teste_blood, svm_pred))"
      ],
      "execution_count": 45,
      "outputs": [
        {
          "output_type": "stream",
          "text": [
            "Accuracy: 0.7595419847328244\n",
            "Precision: 0.0\n",
            "Recall: 0.0\n",
            "F1: 0.0\n",
            "AUROC: 0.5\n"
          ],
          "name": "stdout"
        },
        {
          "output_type": "stream",
          "text": [
            "/usr/local/lib/python3.7/dist-packages/sklearn/metrics/_classification.py:1272: UndefinedMetricWarning:\n",
            "\n",
            "Precision is ill-defined and being set to 0.0 due to no predicted samples. Use `zero_division` parameter to control this behavior.\n",
            "\n"
          ],
          "name": "stderr"
        }
      ]
    },
    {
      "cell_type": "code",
      "metadata": {
        "colab": {
          "base_uri": "https://localhost:8080/"
        },
        "id": "Z5JwM7yBsvXl",
        "outputId": "e216c626-799d-40f6-ba17-6ab52dc4c85a"
      },
      "source": [
        "# Em relação a modelagem utilizando o Kmeans, marque a alternativa CORRETA sobre o número de clusters:\n",
        "\n",
        "x_wine = wine.drop('class', axis=1)\n",
        "x_wine = np.array(x_wine)\n",
        "y_wine = np.array(wine['class'])\n",
        "\n",
        "x_treino_wine, x_teste_wine, y_treino_wine, y_teste_wine = train_test_split(x_wine, y_wine, test_size = 0.35, random_state = 54)\n",
        "\n",
        "for n_cluster in range(2, 10):\n",
        "    kmeans = KMeans(n_clusters=n_cluster).fit(x_wine)\n",
        "    label = kmeans.labels_\n",
        "    sil_coeff = silhouette_score(x_wine, label, metric='euclidean')\n",
        "    print(\"Para n_clusters={}, o Silhouette Coefficient é {}\".format(n_cluster, sil_coeff))"
      ],
      "execution_count": 18,
      "outputs": [
        {
          "output_type": "stream",
          "text": [
            "Para n_clusters=2, o Silhouette Coefficient é 0.6568536504294317\n",
            "Para n_clusters=3, o Silhouette Coefficient é 0.571138193786884\n",
            "Para n_clusters=4, o Silhouette Coefficient é 0.5620323449580346\n",
            "Para n_clusters=5, o Silhouette Coefficient é 0.5489993239795681\n",
            "Para n_clusters=6, o Silhouette Coefficient é 0.5656413100386375\n",
            "Para n_clusters=7, o Silhouette Coefficient é 0.5621677013863702\n",
            "Para n_clusters=8, o Silhouette Coefficient é 0.5398971441034123\n",
            "Para n_clusters=9, o Silhouette Coefficient é 0.5316577207122226\n"
          ],
          "name": "stdout"
        }
      ]
    },
    {
      "cell_type": "code",
      "metadata": {
        "colab": {
          "base_uri": "https://localhost:8080/",
          "height": 295
        },
        "id": "jZbEXftY31VK",
        "outputId": "e913038d-8721-4431-b9b4-380ec0684ba9"
      },
      "source": [
        "#elbow method\n",
        "\n",
        "distortions = []\n",
        "K = range(1,10)\n",
        "for k in K:\n",
        "    kmeans = KMeans(n_clusters=k)\n",
        "    kmeans.fit(x_wine)\n",
        "    distortions.append(kmeans.inertia_)\n",
        "\n",
        "plt.plot(K, distortions, 'bx-')\n",
        "plt.xlabel('k')\n",
        "plt.ylabel('Distortion')\n",
        "plt.title('The Elbow Method showing the optimal k')\n",
        "plt.show()"
      ],
      "execution_count": 19,
      "outputs": [
        {
          "output_type": "display_data",
          "data": {
            "image/png": "[encoded data removed]",
            "text/plain": [
              "<Figure size 432x288 with 1 Axes>"
            ]
          },
          "metadata": {
            "tags": [],
            "needs_background": "light"
          }
        }
      ]
    },
    {
      "cell_type": "code",
      "metadata": {
        "colab": {
          "base_uri": "https://localhost:8080/"
        },
        "id": "YumGn_wk9Akq",
        "outputId": "ab2e5e92-9339-4f12-f01e-2a8c7482b55d"
      },
      "source": [
        "#Em relação a modelagem utilizando o Kmeans, marque a alternativa CORRETA sobre \n",
        "#a métrica Coeficiente de Silhueta, Davies-Bouldin Score e Mutual information\n",
        "\n",
        "kmeans = KMeans(n_clusters=3) #porque é o número de clusters, como visto acima\n",
        "kmeans.fit(x_treino_wine, y_treino_wine)\n",
        "k_pred = kmeans.predict(x_teste_wine)\n",
        "k_pred"
      ],
      "execution_count": 20,
      "outputs": [
        {
          "output_type": "execute_result",
          "data": {
            "text/plain": [
              "array([1, 2, 0, 0, 0, 1, 1, 0, 2, 2, 2, 0, 1, 0, 2, 2, 1, 2, 2, 2, 0, 0,\n",
              "       0, 0, 0, 2, 0, 2, 0, 2, 2, 1, 1, 2, 0, 1, 0, 2, 0, 2, 2, 1, 0, 1,\n",
              "       0, 0, 2, 1, 2, 1, 2, 1, 2, 2, 2, 2, 0, 0, 2, 1, 2, 0, 0],\n",
              "      dtype=int32)"
            ]
          },
          "metadata": {
            "tags": []
          },
          "execution_count": 20
        }
      ]
    },
    {
      "cell_type": "code",
      "metadata": {
        "colab": {
          "base_uri": "https://localhost:8080/"
        },
        "id": "YQxhY8zrAJgW",
        "outputId": "96ce41d7-b264-4907-c98c-9d3f08bf7249"
      },
      "source": [
        "print('Silhouette Score:', silhouette_score(x_teste_wine, k_pred)) \n",
        "print('Davies-Bouldin Score:', davies_bouldin_score(x_teste_wine, k_pred))\n",
        "print('Mutual Info Score:', mutual_info_score(y_teste_wine, k_pred))"
      ],
      "execution_count": 21,
      "outputs": [
        {
          "output_type": "stream",
          "text": [
            "Silhouette Score: 0.5581747258825842\n",
            "Davies-Bouldin Score: 0.5316199338449925\n",
            "Mutual Info Score: 0.42739927199674965\n"
          ],
          "name": "stdout"
        }
      ]
    }
  ]
}